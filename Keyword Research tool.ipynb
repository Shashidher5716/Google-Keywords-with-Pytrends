{
 "cells": [
  {
   "cell_type": "code",
   "execution_count": 13,
   "id": "e9242ed8",
   "metadata": {},
   "outputs": [],
   "source": [
    "# Installing Pytends\n",
    "\n",
    "# pip install pytrends"
   ]
  },
  {
   "cell_type": "code",
   "execution_count": 27,
   "id": "0206dfec",
   "metadata": {},
   "outputs": [],
   "source": [
    "# connect to google \n",
    "\n",
    "from pytrends.request import TrendReq\n",
    "\n",
    "pytrends = TrendReq(hl='en-US', tz=360) "
   ]
  },
  {
   "cell_type": "code",
   "execution_count": 28,
   "id": "03a095c4",
   "metadata": {},
   "outputs": [],
   "source": [
    "# build payload\n",
    "\n",
    "kw_list = [\"machine learning\"] # list of keywords to get data \n",
    "\n",
    "pytrends.build_payload(kw_list, cat=0, timeframe='today 12-m') "
   ]
  },
  {
   "cell_type": "code",
   "execution_count": 30,
   "id": "d109a056",
   "metadata": {},
   "outputs": [
    {
     "data": {
      "application/vnd.plotly.v1+json": {
       "config": {
        "plotlyServerURL": "https://plot.ly"
       },
       "data": [
        {
         "hovertemplate": "variable=machine learning<br>date=%{x}<br>value=%{y}<extra></extra>",
         "legendgroup": "machine learning",
         "line": {
          "color": "#636efa",
          "dash": "solid"
         },
         "marker": {
          "symbol": "circle"
         },
         "mode": "lines",
         "name": "machine learning",
         "orientation": "v",
         "showlegend": true,
         "type": "scatter",
         "x": [
          "2022-05-01T00:00:00",
          "2022-05-08T00:00:00",
          "2022-05-15T00:00:00",
          "2022-05-22T00:00:00",
          "2022-05-29T00:00:00",
          "2022-06-05T00:00:00",
          "2022-06-12T00:00:00",
          "2022-06-19T00:00:00",
          "2022-06-26T00:00:00",
          "2022-07-03T00:00:00",
          "2022-07-10T00:00:00",
          "2022-07-17T00:00:00",
          "2022-07-24T00:00:00",
          "2022-07-31T00:00:00",
          "2022-08-07T00:00:00",
          "2022-08-14T00:00:00",
          "2022-08-21T00:00:00",
          "2022-08-28T00:00:00",
          "2022-09-04T00:00:00",
          "2022-09-11T00:00:00",
          "2022-09-18T00:00:00",
          "2022-09-25T00:00:00",
          "2022-10-02T00:00:00",
          "2022-10-09T00:00:00",
          "2022-10-16T00:00:00",
          "2022-10-23T00:00:00",
          "2022-10-30T00:00:00",
          "2022-11-06T00:00:00",
          "2022-11-13T00:00:00",
          "2022-11-20T00:00:00",
          "2022-11-27T00:00:00",
          "2022-12-04T00:00:00",
          "2022-12-11T00:00:00",
          "2022-12-18T00:00:00",
          "2022-12-25T00:00:00",
          "2023-01-01T00:00:00",
          "2023-01-08T00:00:00",
          "2023-01-15T00:00:00",
          "2023-01-22T00:00:00",
          "2023-01-29T00:00:00",
          "2023-02-05T00:00:00",
          "2023-02-12T00:00:00",
          "2023-02-19T00:00:00",
          "2023-02-26T00:00:00",
          "2023-03-05T00:00:00",
          "2023-03-12T00:00:00",
          "2023-03-19T00:00:00",
          "2023-03-26T00:00:00",
          "2023-04-02T00:00:00",
          "2023-04-09T00:00:00",
          "2023-04-16T00:00:00"
         ],
         "xaxis": "x",
         "y": [
          90,
          100,
          87,
          85,
          81,
          87,
          89,
          89,
          83,
          80,
          78,
          84,
          81,
          79,
          78,
          74,
          79,
          78,
          82,
          85,
          88,
          86,
          88,
          91,
          90,
          86,
          90,
          87,
          98,
          84,
          91,
          93,
          93,
          77,
          69,
          82,
          87,
          87,
          91,
          95,
          90,
          91,
          91,
          93,
          89,
          88,
          88,
          92,
          81,
          84,
          91
         ],
         "yaxis": "y"
        }
       ],
       "layout": {
        "legend": {
         "title": {
          "text": "variable"
         },
         "tracegroupgap": 0
        },
        "template": {
         "data": {
          "bar": [
           {
            "error_x": {
             "color": "#2a3f5f"
            },
            "error_y": {
             "color": "#2a3f5f"
            },
            "marker": {
             "line": {
              "color": "#E5ECF6",
              "width": 0.5
             },
             "pattern": {
              "fillmode": "overlay",
              "size": 10,
              "solidity": 0.2
             }
            },
            "type": "bar"
           }
          ],
          "barpolar": [
           {
            "marker": {
             "line": {
              "color": "#E5ECF6",
              "width": 0.5
             },
             "pattern": {
              "fillmode": "overlay",
              "size": 10,
              "solidity": 0.2
             }
            },
            "type": "barpolar"
           }
          ],
          "carpet": [
           {
            "aaxis": {
             "endlinecolor": "#2a3f5f",
             "gridcolor": "white",
             "linecolor": "white",
             "minorgridcolor": "white",
             "startlinecolor": "#2a3f5f"
            },
            "baxis": {
             "endlinecolor": "#2a3f5f",
             "gridcolor": "white",
             "linecolor": "white",
             "minorgridcolor": "white",
             "startlinecolor": "#2a3f5f"
            },
            "type": "carpet"
           }
          ],
          "choropleth": [
           {
            "colorbar": {
             "outlinewidth": 0,
             "ticks": ""
            },
            "type": "choropleth"
           }
          ],
          "contour": [
           {
            "colorbar": {
             "outlinewidth": 0,
             "ticks": ""
            },
            "colorscale": [
             [
              0,
              "#0d0887"
             ],
             [
              0.1111111111111111,
              "#46039f"
             ],
             [
              0.2222222222222222,
              "#7201a8"
             ],
             [
              0.3333333333333333,
              "#9c179e"
             ],
             [
              0.4444444444444444,
              "#bd3786"
             ],
             [
              0.5555555555555556,
              "#d8576b"
             ],
             [
              0.6666666666666666,
              "#ed7953"
             ],
             [
              0.7777777777777778,
              "#fb9f3a"
             ],
             [
              0.8888888888888888,
              "#fdca26"
             ],
             [
              1,
              "#f0f921"
             ]
            ],
            "type": "contour"
           }
          ],
          "contourcarpet": [
           {
            "colorbar": {
             "outlinewidth": 0,
             "ticks": ""
            },
            "type": "contourcarpet"
           }
          ],
          "heatmap": [
           {
            "colorbar": {
             "outlinewidth": 0,
             "ticks": ""
            },
            "colorscale": [
             [
              0,
              "#0d0887"
             ],
             [
              0.1111111111111111,
              "#46039f"
             ],
             [
              0.2222222222222222,
              "#7201a8"
             ],
             [
              0.3333333333333333,
              "#9c179e"
             ],
             [
              0.4444444444444444,
              "#bd3786"
             ],
             [
              0.5555555555555556,
              "#d8576b"
             ],
             [
              0.6666666666666666,
              "#ed7953"
             ],
             [
              0.7777777777777778,
              "#fb9f3a"
             ],
             [
              0.8888888888888888,
              "#fdca26"
             ],
             [
              1,
              "#f0f921"
             ]
            ],
            "type": "heatmap"
           }
          ],
          "heatmapgl": [
           {
            "colorbar": {
             "outlinewidth": 0,
             "ticks": ""
            },
            "colorscale": [
             [
              0,
              "#0d0887"
             ],
             [
              0.1111111111111111,
              "#46039f"
             ],
             [
              0.2222222222222222,
              "#7201a8"
             ],
             [
              0.3333333333333333,
              "#9c179e"
             ],
             [
              0.4444444444444444,
              "#bd3786"
             ],
             [
              0.5555555555555556,
              "#d8576b"
             ],
             [
              0.6666666666666666,
              "#ed7953"
             ],
             [
              0.7777777777777778,
              "#fb9f3a"
             ],
             [
              0.8888888888888888,
              "#fdca26"
             ],
             [
              1,
              "#f0f921"
             ]
            ],
            "type": "heatmapgl"
           }
          ],
          "histogram": [
           {
            "marker": {
             "pattern": {
              "fillmode": "overlay",
              "size": 10,
              "solidity": 0.2
             }
            },
            "type": "histogram"
           }
          ],
          "histogram2d": [
           {
            "colorbar": {
             "outlinewidth": 0,
             "ticks": ""
            },
            "colorscale": [
             [
              0,
              "#0d0887"
             ],
             [
              0.1111111111111111,
              "#46039f"
             ],
             [
              0.2222222222222222,
              "#7201a8"
             ],
             [
              0.3333333333333333,
              "#9c179e"
             ],
             [
              0.4444444444444444,
              "#bd3786"
             ],
             [
              0.5555555555555556,
              "#d8576b"
             ],
             [
              0.6666666666666666,
              "#ed7953"
             ],
             [
              0.7777777777777778,
              "#fb9f3a"
             ],
             [
              0.8888888888888888,
              "#fdca26"
             ],
             [
              1,
              "#f0f921"
             ]
            ],
            "type": "histogram2d"
           }
          ],
          "histogram2dcontour": [
           {
            "colorbar": {
             "outlinewidth": 0,
             "ticks": ""
            },
            "colorscale": [
             [
              0,
              "#0d0887"
             ],
             [
              0.1111111111111111,
              "#46039f"
             ],
             [
              0.2222222222222222,
              "#7201a8"
             ],
             [
              0.3333333333333333,
              "#9c179e"
             ],
             [
              0.4444444444444444,
              "#bd3786"
             ],
             [
              0.5555555555555556,
              "#d8576b"
             ],
             [
              0.6666666666666666,
              "#ed7953"
             ],
             [
              0.7777777777777778,
              "#fb9f3a"
             ],
             [
              0.8888888888888888,
              "#fdca26"
             ],
             [
              1,
              "#f0f921"
             ]
            ],
            "type": "histogram2dcontour"
           }
          ],
          "mesh3d": [
           {
            "colorbar": {
             "outlinewidth": 0,
             "ticks": ""
            },
            "type": "mesh3d"
           }
          ],
          "parcoords": [
           {
            "line": {
             "colorbar": {
              "outlinewidth": 0,
              "ticks": ""
             }
            },
            "type": "parcoords"
           }
          ],
          "pie": [
           {
            "automargin": true,
            "type": "pie"
           }
          ],
          "scatter": [
           {
            "fillpattern": {
             "fillmode": "overlay",
             "size": 10,
             "solidity": 0.2
            },
            "type": "scatter"
           }
          ],
          "scatter3d": [
           {
            "line": {
             "colorbar": {
              "outlinewidth": 0,
              "ticks": ""
             }
            },
            "marker": {
             "colorbar": {
              "outlinewidth": 0,
              "ticks": ""
             }
            },
            "type": "scatter3d"
           }
          ],
          "scattercarpet": [
           {
            "marker": {
             "colorbar": {
              "outlinewidth": 0,
              "ticks": ""
             }
            },
            "type": "scattercarpet"
           }
          ],
          "scattergeo": [
           {
            "marker": {
             "colorbar": {
              "outlinewidth": 0,
              "ticks": ""
             }
            },
            "type": "scattergeo"
           }
          ],
          "scattergl": [
           {
            "marker": {
             "colorbar": {
              "outlinewidth": 0,
              "ticks": ""
             }
            },
            "type": "scattergl"
           }
          ],
          "scattermapbox": [
           {
            "marker": {
             "colorbar": {
              "outlinewidth": 0,
              "ticks": ""
             }
            },
            "type": "scattermapbox"
           }
          ],
          "scatterpolar": [
           {
            "marker": {
             "colorbar": {
              "outlinewidth": 0,
              "ticks": ""
             }
            },
            "type": "scatterpolar"
           }
          ],
          "scatterpolargl": [
           {
            "marker": {
             "colorbar": {
              "outlinewidth": 0,
              "ticks": ""
             }
            },
            "type": "scatterpolargl"
           }
          ],
          "scatterternary": [
           {
            "marker": {
             "colorbar": {
              "outlinewidth": 0,
              "ticks": ""
             }
            },
            "type": "scatterternary"
           }
          ],
          "surface": [
           {
            "colorbar": {
             "outlinewidth": 0,
             "ticks": ""
            },
            "colorscale": [
             [
              0,
              "#0d0887"
             ],
             [
              0.1111111111111111,
              "#46039f"
             ],
             [
              0.2222222222222222,
              "#7201a8"
             ],
             [
              0.3333333333333333,
              "#9c179e"
             ],
             [
              0.4444444444444444,
              "#bd3786"
             ],
             [
              0.5555555555555556,
              "#d8576b"
             ],
             [
              0.6666666666666666,
              "#ed7953"
             ],
             [
              0.7777777777777778,
              "#fb9f3a"
             ],
             [
              0.8888888888888888,
              "#fdca26"
             ],
             [
              1,
              "#f0f921"
             ]
            ],
            "type": "surface"
           }
          ],
          "table": [
           {
            "cells": {
             "fill": {
              "color": "#EBF0F8"
             },
             "line": {
              "color": "white"
             }
            },
            "header": {
             "fill": {
              "color": "#C8D4E3"
             },
             "line": {
              "color": "white"
             }
            },
            "type": "table"
           }
          ]
         },
         "layout": {
          "annotationdefaults": {
           "arrowcolor": "#2a3f5f",
           "arrowhead": 0,
           "arrowwidth": 1
          },
          "autotypenumbers": "strict",
          "coloraxis": {
           "colorbar": {
            "outlinewidth": 0,
            "ticks": ""
           }
          },
          "colorscale": {
           "diverging": [
            [
             0,
             "#8e0152"
            ],
            [
             0.1,
             "#c51b7d"
            ],
            [
             0.2,
             "#de77ae"
            ],
            [
             0.3,
             "#f1b6da"
            ],
            [
             0.4,
             "#fde0ef"
            ],
            [
             0.5,
             "#f7f7f7"
            ],
            [
             0.6,
             "#e6f5d0"
            ],
            [
             0.7,
             "#b8e186"
            ],
            [
             0.8,
             "#7fbc41"
            ],
            [
             0.9,
             "#4d9221"
            ],
            [
             1,
             "#276419"
            ]
           ],
           "sequential": [
            [
             0,
             "#0d0887"
            ],
            [
             0.1111111111111111,
             "#46039f"
            ],
            [
             0.2222222222222222,
             "#7201a8"
            ],
            [
             0.3333333333333333,
             "#9c179e"
            ],
            [
             0.4444444444444444,
             "#bd3786"
            ],
            [
             0.5555555555555556,
             "#d8576b"
            ],
            [
             0.6666666666666666,
             "#ed7953"
            ],
            [
             0.7777777777777778,
             "#fb9f3a"
            ],
            [
             0.8888888888888888,
             "#fdca26"
            ],
            [
             1,
             "#f0f921"
            ]
           ],
           "sequentialminus": [
            [
             0,
             "#0d0887"
            ],
            [
             0.1111111111111111,
             "#46039f"
            ],
            [
             0.2222222222222222,
             "#7201a8"
            ],
            [
             0.3333333333333333,
             "#9c179e"
            ],
            [
             0.4444444444444444,
             "#bd3786"
            ],
            [
             0.5555555555555556,
             "#d8576b"
            ],
            [
             0.6666666666666666,
             "#ed7953"
            ],
            [
             0.7777777777777778,
             "#fb9f3a"
            ],
            [
             0.8888888888888888,
             "#fdca26"
            ],
            [
             1,
             "#f0f921"
            ]
           ]
          },
          "colorway": [
           "#636efa",
           "#EF553B",
           "#00cc96",
           "#ab63fa",
           "#FFA15A",
           "#19d3f3",
           "#FF6692",
           "#B6E880",
           "#FF97FF",
           "#FECB52"
          ],
          "font": {
           "color": "#2a3f5f"
          },
          "geo": {
           "bgcolor": "white",
           "lakecolor": "white",
           "landcolor": "#E5ECF6",
           "showlakes": true,
           "showland": true,
           "subunitcolor": "white"
          },
          "hoverlabel": {
           "align": "left"
          },
          "hovermode": "closest",
          "mapbox": {
           "style": "light"
          },
          "paper_bgcolor": "white",
          "plot_bgcolor": "#E5ECF6",
          "polar": {
           "angularaxis": {
            "gridcolor": "white",
            "linecolor": "white",
            "ticks": ""
           },
           "bgcolor": "#E5ECF6",
           "radialaxis": {
            "gridcolor": "white",
            "linecolor": "white",
            "ticks": ""
           }
          },
          "scene": {
           "xaxis": {
            "backgroundcolor": "#E5ECF6",
            "gridcolor": "white",
            "gridwidth": 2,
            "linecolor": "white",
            "showbackground": true,
            "ticks": "",
            "zerolinecolor": "white"
           },
           "yaxis": {
            "backgroundcolor": "#E5ECF6",
            "gridcolor": "white",
            "gridwidth": 2,
            "linecolor": "white",
            "showbackground": true,
            "ticks": "",
            "zerolinecolor": "white"
           },
           "zaxis": {
            "backgroundcolor": "#E5ECF6",
            "gridcolor": "white",
            "gridwidth": 2,
            "linecolor": "white",
            "showbackground": true,
            "ticks": "",
            "zerolinecolor": "white"
           }
          },
          "shapedefaults": {
           "line": {
            "color": "#2a3f5f"
           }
          },
          "ternary": {
           "aaxis": {
            "gridcolor": "white",
            "linecolor": "white",
            "ticks": ""
           },
           "baxis": {
            "gridcolor": "white",
            "linecolor": "white",
            "ticks": ""
           },
           "bgcolor": "#E5ECF6",
           "caxis": {
            "gridcolor": "white",
            "linecolor": "white",
            "ticks": ""
           }
          },
          "title": {
           "x": 0.05
          },
          "xaxis": {
           "automargin": true,
           "gridcolor": "white",
           "linecolor": "white",
           "ticks": "",
           "title": {
            "standoff": 15
           },
           "zerolinecolor": "white",
           "zerolinewidth": 2
          },
          "yaxis": {
           "automargin": true,
           "gridcolor": "white",
           "linecolor": "white",
           "ticks": "",
           "title": {
            "standoff": 15
           },
           "zerolinecolor": "white",
           "zerolinewidth": 2
          }
         }
        },
        "title": {
         "text": "Keyword Web Search Interest Over Time"
        },
        "xaxis": {
         "anchor": "y",
         "domain": [
          0,
          1
         ],
         "title": {
          "text": "date"
         }
        },
        "yaxis": {
         "anchor": "x",
         "domain": [
          0,
          1
         ],
         "title": {
          "text": "value"
         }
        }
       }
      },
      "text/html": [
       "<div>                            <div id=\"131168f5-2d2c-4eb9-a9e7-02528c46d399\" class=\"plotly-graph-div\" style=\"height:525px; width:100%;\"></div>            <script type=\"text/javascript\">                require([\"plotly\"], function(Plotly) {                    window.PLOTLYENV=window.PLOTLYENV || {};                                    if (document.getElementById(\"131168f5-2d2c-4eb9-a9e7-02528c46d399\")) {                    Plotly.newPlot(                        \"131168f5-2d2c-4eb9-a9e7-02528c46d399\",                        [{\"hovertemplate\":\"variable=machine learning<br>date=%{x}<br>value=%{y}<extra></extra>\",\"legendgroup\":\"machine learning\",\"line\":{\"color\":\"#636efa\",\"dash\":\"solid\"},\"marker\":{\"symbol\":\"circle\"},\"mode\":\"lines\",\"name\":\"machine learning\",\"orientation\":\"v\",\"showlegend\":true,\"x\":[\"2022-05-01T00:00:00\",\"2022-05-08T00:00:00\",\"2022-05-15T00:00:00\",\"2022-05-22T00:00:00\",\"2022-05-29T00:00:00\",\"2022-06-05T00:00:00\",\"2022-06-12T00:00:00\",\"2022-06-19T00:00:00\",\"2022-06-26T00:00:00\",\"2022-07-03T00:00:00\",\"2022-07-10T00:00:00\",\"2022-07-17T00:00:00\",\"2022-07-24T00:00:00\",\"2022-07-31T00:00:00\",\"2022-08-07T00:00:00\",\"2022-08-14T00:00:00\",\"2022-08-21T00:00:00\",\"2022-08-28T00:00:00\",\"2022-09-04T00:00:00\",\"2022-09-11T00:00:00\",\"2022-09-18T00:00:00\",\"2022-09-25T00:00:00\",\"2022-10-02T00:00:00\",\"2022-10-09T00:00:00\",\"2022-10-16T00:00:00\",\"2022-10-23T00:00:00\",\"2022-10-30T00:00:00\",\"2022-11-06T00:00:00\",\"2022-11-13T00:00:00\",\"2022-11-20T00:00:00\",\"2022-11-27T00:00:00\",\"2022-12-04T00:00:00\",\"2022-12-11T00:00:00\",\"2022-12-18T00:00:00\",\"2022-12-25T00:00:00\",\"2023-01-01T00:00:00\",\"2023-01-08T00:00:00\",\"2023-01-15T00:00:00\",\"2023-01-22T00:00:00\",\"2023-01-29T00:00:00\",\"2023-02-05T00:00:00\",\"2023-02-12T00:00:00\",\"2023-02-19T00:00:00\",\"2023-02-26T00:00:00\",\"2023-03-05T00:00:00\",\"2023-03-12T00:00:00\",\"2023-03-19T00:00:00\",\"2023-03-26T00:00:00\",\"2023-04-02T00:00:00\",\"2023-04-09T00:00:00\",\"2023-04-16T00:00:00\"],\"xaxis\":\"x\",\"y\":[90,100,87,85,81,87,89,89,83,80,78,84,81,79,78,74,79,78,82,85,88,86,88,91,90,86,90,87,98,84,91,93,93,77,69,82,87,87,91,95,90,91,91,93,89,88,88,92,81,84,91],\"yaxis\":\"y\",\"type\":\"scatter\"}],                        {\"template\":{\"data\":{\"histogram2dcontour\":[{\"type\":\"histogram2dcontour\",\"colorbar\":{\"outlinewidth\":0,\"ticks\":\"\"},\"colorscale\":[[0.0,\"#0d0887\"],[0.1111111111111111,\"#46039f\"],[0.2222222222222222,\"#7201a8\"],[0.3333333333333333,\"#9c179e\"],[0.4444444444444444,\"#bd3786\"],[0.5555555555555556,\"#d8576b\"],[0.6666666666666666,\"#ed7953\"],[0.7777777777777778,\"#fb9f3a\"],[0.8888888888888888,\"#fdca26\"],[1.0,\"#f0f921\"]]}],\"choropleth\":[{\"type\":\"choropleth\",\"colorbar\":{\"outlinewidth\":0,\"ticks\":\"\"}}],\"histogram2d\":[{\"type\":\"histogram2d\",\"colorbar\":{\"outlinewidth\":0,\"ticks\":\"\"},\"colorscale\":[[0.0,\"#0d0887\"],[0.1111111111111111,\"#46039f\"],[0.2222222222222222,\"#7201a8\"],[0.3333333333333333,\"#9c179e\"],[0.4444444444444444,\"#bd3786\"],[0.5555555555555556,\"#d8576b\"],[0.6666666666666666,\"#ed7953\"],[0.7777777777777778,\"#fb9f3a\"],[0.8888888888888888,\"#fdca26\"],[1.0,\"#f0f921\"]]}],\"heatmap\":[{\"type\":\"heatmap\",\"colorbar\":{\"outlinewidth\":0,\"ticks\":\"\"},\"colorscale\":[[0.0,\"#0d0887\"],[0.1111111111111111,\"#46039f\"],[0.2222222222222222,\"#7201a8\"],[0.3333333333333333,\"#9c179e\"],[0.4444444444444444,\"#bd3786\"],[0.5555555555555556,\"#d8576b\"],[0.6666666666666666,\"#ed7953\"],[0.7777777777777778,\"#fb9f3a\"],[0.8888888888888888,\"#fdca26\"],[1.0,\"#f0f921\"]]}],\"heatmapgl\":[{\"type\":\"heatmapgl\",\"colorbar\":{\"outlinewidth\":0,\"ticks\":\"\"},\"colorscale\":[[0.0,\"#0d0887\"],[0.1111111111111111,\"#46039f\"],[0.2222222222222222,\"#7201a8\"],[0.3333333333333333,\"#9c179e\"],[0.4444444444444444,\"#bd3786\"],[0.5555555555555556,\"#d8576b\"],[0.6666666666666666,\"#ed7953\"],[0.7777777777777778,\"#fb9f3a\"],[0.8888888888888888,\"#fdca26\"],[1.0,\"#f0f921\"]]}],\"contourcarpet\":[{\"type\":\"contourcarpet\",\"colorbar\":{\"outlinewidth\":0,\"ticks\":\"\"}}],\"contour\":[{\"type\":\"contour\",\"colorbar\":{\"outlinewidth\":0,\"ticks\":\"\"},\"colorscale\":[[0.0,\"#0d0887\"],[0.1111111111111111,\"#46039f\"],[0.2222222222222222,\"#7201a8\"],[0.3333333333333333,\"#9c179e\"],[0.4444444444444444,\"#bd3786\"],[0.5555555555555556,\"#d8576b\"],[0.6666666666666666,\"#ed7953\"],[0.7777777777777778,\"#fb9f3a\"],[0.8888888888888888,\"#fdca26\"],[1.0,\"#f0f921\"]]}],\"surface\":[{\"type\":\"surface\",\"colorbar\":{\"outlinewidth\":0,\"ticks\":\"\"},\"colorscale\":[[0.0,\"#0d0887\"],[0.1111111111111111,\"#46039f\"],[0.2222222222222222,\"#7201a8\"],[0.3333333333333333,\"#9c179e\"],[0.4444444444444444,\"#bd3786\"],[0.5555555555555556,\"#d8576b\"],[0.6666666666666666,\"#ed7953\"],[0.7777777777777778,\"#fb9f3a\"],[0.8888888888888888,\"#fdca26\"],[1.0,\"#f0f921\"]]}],\"mesh3d\":[{\"type\":\"mesh3d\",\"colorbar\":{\"outlinewidth\":0,\"ticks\":\"\"}}],\"scatter\":[{\"fillpattern\":{\"fillmode\":\"overlay\",\"size\":10,\"solidity\":0.2},\"type\":\"scatter\"}],\"parcoords\":[{\"type\":\"parcoords\",\"line\":{\"colorbar\":{\"outlinewidth\":0,\"ticks\":\"\"}}}],\"scatterpolargl\":[{\"type\":\"scatterpolargl\",\"marker\":{\"colorbar\":{\"outlinewidth\":0,\"ticks\":\"\"}}}],\"bar\":[{\"error_x\":{\"color\":\"#2a3f5f\"},\"error_y\":{\"color\":\"#2a3f5f\"},\"marker\":{\"line\":{\"color\":\"#E5ECF6\",\"width\":0.5},\"pattern\":{\"fillmode\":\"overlay\",\"size\":10,\"solidity\":0.2}},\"type\":\"bar\"}],\"scattergeo\":[{\"type\":\"scattergeo\",\"marker\":{\"colorbar\":{\"outlinewidth\":0,\"ticks\":\"\"}}}],\"scatterpolar\":[{\"type\":\"scatterpolar\",\"marker\":{\"colorbar\":{\"outlinewidth\":0,\"ticks\":\"\"}}}],\"histogram\":[{\"marker\":{\"pattern\":{\"fillmode\":\"overlay\",\"size\":10,\"solidity\":0.2}},\"type\":\"histogram\"}],\"scattergl\":[{\"type\":\"scattergl\",\"marker\":{\"colorbar\":{\"outlinewidth\":0,\"ticks\":\"\"}}}],\"scatter3d\":[{\"type\":\"scatter3d\",\"line\":{\"colorbar\":{\"outlinewidth\":0,\"ticks\":\"\"}},\"marker\":{\"colorbar\":{\"outlinewidth\":0,\"ticks\":\"\"}}}],\"scattermapbox\":[{\"type\":\"scattermapbox\",\"marker\":{\"colorbar\":{\"outlinewidth\":0,\"ticks\":\"\"}}}],\"scatterternary\":[{\"type\":\"scatterternary\",\"marker\":{\"colorbar\":{\"outlinewidth\":0,\"ticks\":\"\"}}}],\"scattercarpet\":[{\"type\":\"scattercarpet\",\"marker\":{\"colorbar\":{\"outlinewidth\":0,\"ticks\":\"\"}}}],\"carpet\":[{\"aaxis\":{\"endlinecolor\":\"#2a3f5f\",\"gridcolor\":\"white\",\"linecolor\":\"white\",\"minorgridcolor\":\"white\",\"startlinecolor\":\"#2a3f5f\"},\"baxis\":{\"endlinecolor\":\"#2a3f5f\",\"gridcolor\":\"white\",\"linecolor\":\"white\",\"minorgridcolor\":\"white\",\"startlinecolor\":\"#2a3f5f\"},\"type\":\"carpet\"}],\"table\":[{\"cells\":{\"fill\":{\"color\":\"#EBF0F8\"},\"line\":{\"color\":\"white\"}},\"header\":{\"fill\":{\"color\":\"#C8D4E3\"},\"line\":{\"color\":\"white\"}},\"type\":\"table\"}],\"barpolar\":[{\"marker\":{\"line\":{\"color\":\"#E5ECF6\",\"width\":0.5},\"pattern\":{\"fillmode\":\"overlay\",\"size\":10,\"solidity\":0.2}},\"type\":\"barpolar\"}],\"pie\":[{\"automargin\":true,\"type\":\"pie\"}]},\"layout\":{\"autotypenumbers\":\"strict\",\"colorway\":[\"#636efa\",\"#EF553B\",\"#00cc96\",\"#ab63fa\",\"#FFA15A\",\"#19d3f3\",\"#FF6692\",\"#B6E880\",\"#FF97FF\",\"#FECB52\"],\"font\":{\"color\":\"#2a3f5f\"},\"hovermode\":\"closest\",\"hoverlabel\":{\"align\":\"left\"},\"paper_bgcolor\":\"white\",\"plot_bgcolor\":\"#E5ECF6\",\"polar\":{\"bgcolor\":\"#E5ECF6\",\"angularaxis\":{\"gridcolor\":\"white\",\"linecolor\":\"white\",\"ticks\":\"\"},\"radialaxis\":{\"gridcolor\":\"white\",\"linecolor\":\"white\",\"ticks\":\"\"}},\"ternary\":{\"bgcolor\":\"#E5ECF6\",\"aaxis\":{\"gridcolor\":\"white\",\"linecolor\":\"white\",\"ticks\":\"\"},\"baxis\":{\"gridcolor\":\"white\",\"linecolor\":\"white\",\"ticks\":\"\"},\"caxis\":{\"gridcolor\":\"white\",\"linecolor\":\"white\",\"ticks\":\"\"}},\"coloraxis\":{\"colorbar\":{\"outlinewidth\":0,\"ticks\":\"\"}},\"colorscale\":{\"sequential\":[[0.0,\"#0d0887\"],[0.1111111111111111,\"#46039f\"],[0.2222222222222222,\"#7201a8\"],[0.3333333333333333,\"#9c179e\"],[0.4444444444444444,\"#bd3786\"],[0.5555555555555556,\"#d8576b\"],[0.6666666666666666,\"#ed7953\"],[0.7777777777777778,\"#fb9f3a\"],[0.8888888888888888,\"#fdca26\"],[1.0,\"#f0f921\"]],\"sequentialminus\":[[0.0,\"#0d0887\"],[0.1111111111111111,\"#46039f\"],[0.2222222222222222,\"#7201a8\"],[0.3333333333333333,\"#9c179e\"],[0.4444444444444444,\"#bd3786\"],[0.5555555555555556,\"#d8576b\"],[0.6666666666666666,\"#ed7953\"],[0.7777777777777778,\"#fb9f3a\"],[0.8888888888888888,\"#fdca26\"],[1.0,\"#f0f921\"]],\"diverging\":[[0,\"#8e0152\"],[0.1,\"#c51b7d\"],[0.2,\"#de77ae\"],[0.3,\"#f1b6da\"],[0.4,\"#fde0ef\"],[0.5,\"#f7f7f7\"],[0.6,\"#e6f5d0\"],[0.7,\"#b8e186\"],[0.8,\"#7fbc41\"],[0.9,\"#4d9221\"],[1,\"#276419\"]]},\"xaxis\":{\"gridcolor\":\"white\",\"linecolor\":\"white\",\"ticks\":\"\",\"title\":{\"standoff\":15},\"zerolinecolor\":\"white\",\"automargin\":true,\"zerolinewidth\":2},\"yaxis\":{\"gridcolor\":\"white\",\"linecolor\":\"white\",\"ticks\":\"\",\"title\":{\"standoff\":15},\"zerolinecolor\":\"white\",\"automargin\":true,\"zerolinewidth\":2},\"scene\":{\"xaxis\":{\"backgroundcolor\":\"#E5ECF6\",\"gridcolor\":\"white\",\"linecolor\":\"white\",\"showbackground\":true,\"ticks\":\"\",\"zerolinecolor\":\"white\",\"gridwidth\":2},\"yaxis\":{\"backgroundcolor\":\"#E5ECF6\",\"gridcolor\":\"white\",\"linecolor\":\"white\",\"showbackground\":true,\"ticks\":\"\",\"zerolinecolor\":\"white\",\"gridwidth\":2},\"zaxis\":{\"backgroundcolor\":\"#E5ECF6\",\"gridcolor\":\"white\",\"linecolor\":\"white\",\"showbackground\":true,\"ticks\":\"\",\"zerolinecolor\":\"white\",\"gridwidth\":2}},\"shapedefaults\":{\"line\":{\"color\":\"#2a3f5f\"}},\"annotationdefaults\":{\"arrowcolor\":\"#2a3f5f\",\"arrowhead\":0,\"arrowwidth\":1},\"geo\":{\"bgcolor\":\"white\",\"landcolor\":\"#E5ECF6\",\"subunitcolor\":\"white\",\"showland\":true,\"showlakes\":true,\"lakecolor\":\"white\"},\"title\":{\"x\":0.05},\"mapbox\":{\"style\":\"light\"}}},\"xaxis\":{\"anchor\":\"y\",\"domain\":[0.0,1.0],\"title\":{\"text\":\"date\"}},\"yaxis\":{\"anchor\":\"x\",\"domain\":[0.0,1.0],\"title\":{\"text\":\"value\"}},\"legend\":{\"title\":{\"text\":\"variable\"},\"tracegroupgap\":0},\"title\":{\"text\":\"Keyword Web Search Interest Over Time\"}},                        {\"responsive\": true}                    ).then(function(){\n",
       "                            \n",
       "var gd = document.getElementById('131168f5-2d2c-4eb9-a9e7-02528c46d399');\n",
       "var x = new MutationObserver(function (mutations, observer) {{\n",
       "        var display = window.getComputedStyle(gd).display;\n",
       "        if (!display || display === 'none') {{\n",
       "            console.log([gd, 'removed!']);\n",
       "            Plotly.purge(gd);\n",
       "            observer.disconnect();\n",
       "        }}\n",
       "}});\n",
       "\n",
       "// Listen for the removal of the full notebook cells\n",
       "var notebookContainer = gd.closest('#notebook-container');\n",
       "if (notebookContainer) {{\n",
       "    x.observe(notebookContainer, {childList: true});\n",
       "}}\n",
       "\n",
       "// Listen for the clearing of the current output cell\n",
       "var outputEl = gd.closest('.output');\n",
       "if (outputEl) {{\n",
       "    x.observe(outputEl, {childList: true});\n",
       "}}\n",
       "\n",
       "                        })                };                });            </script>        </div>"
      ]
     },
     "metadata": {},
     "output_type": "display_data"
    }
   ],
   "source": [
    "#1 Interest over Time\n",
    "data = pytrends.interest_over_time() \n",
    "data = data.reset_index() \n",
    "\n",
    "\n",
    "import plotly.express as px\n",
    "\n",
    "fig = px.line(data, x=\"date\", y=['machine learning'], title='Keyword Web Search Interest Over Time')\n",
    "fig.show() "
   ]
  },
  {
   "cell_type": "code",
   "execution_count": 31,
   "id": "d6ad5a39",
   "metadata": {},
   "outputs": [
    {
     "data": {
      "text/html": [
       "<div>\n",
       "<style scoped>\n",
       "    .dataframe tbody tr th:only-of-type {\n",
       "        vertical-align: middle;\n",
       "    }\n",
       "\n",
       "    .dataframe tbody tr th {\n",
       "        vertical-align: top;\n",
       "    }\n",
       "\n",
       "    .dataframe thead th {\n",
       "        text-align: right;\n",
       "    }\n",
       "</style>\n",
       "<table border=\"1\" class=\"dataframe\">\n",
       "  <thead>\n",
       "    <tr style=\"text-align: right;\">\n",
       "      <th></th>\n",
       "      <th>machine learning</th>\n",
       "      <th>isPartial</th>\n",
       "    </tr>\n",
       "    <tr>\n",
       "      <th>date</th>\n",
       "      <th></th>\n",
       "      <th></th>\n",
       "    </tr>\n",
       "  </thead>\n",
       "  <tbody>\n",
       "    <tr>\n",
       "      <th>2022-05-01</th>\n",
       "      <td>90</td>\n",
       "      <td>False</td>\n",
       "    </tr>\n",
       "    <tr>\n",
       "      <th>2022-05-08</th>\n",
       "      <td>100</td>\n",
       "      <td>False</td>\n",
       "    </tr>\n",
       "    <tr>\n",
       "      <th>2022-05-15</th>\n",
       "      <td>87</td>\n",
       "      <td>False</td>\n",
       "    </tr>\n",
       "    <tr>\n",
       "      <th>2022-05-22</th>\n",
       "      <td>85</td>\n",
       "      <td>False</td>\n",
       "    </tr>\n",
       "    <tr>\n",
       "      <th>2022-05-29</th>\n",
       "      <td>81</td>\n",
       "      <td>False</td>\n",
       "    </tr>\n",
       "    <tr>\n",
       "      <th>2022-06-05</th>\n",
       "      <td>87</td>\n",
       "      <td>False</td>\n",
       "    </tr>\n",
       "    <tr>\n",
       "      <th>2022-06-12</th>\n",
       "      <td>89</td>\n",
       "      <td>False</td>\n",
       "    </tr>\n",
       "    <tr>\n",
       "      <th>2022-06-19</th>\n",
       "      <td>89</td>\n",
       "      <td>False</td>\n",
       "    </tr>\n",
       "    <tr>\n",
       "      <th>2022-06-26</th>\n",
       "      <td>83</td>\n",
       "      <td>False</td>\n",
       "    </tr>\n",
       "    <tr>\n",
       "      <th>2022-07-03</th>\n",
       "      <td>80</td>\n",
       "      <td>False</td>\n",
       "    </tr>\n",
       "    <tr>\n",
       "      <th>2022-07-10</th>\n",
       "      <td>78</td>\n",
       "      <td>False</td>\n",
       "    </tr>\n",
       "    <tr>\n",
       "      <th>2022-07-17</th>\n",
       "      <td>84</td>\n",
       "      <td>False</td>\n",
       "    </tr>\n",
       "    <tr>\n",
       "      <th>2022-07-24</th>\n",
       "      <td>81</td>\n",
       "      <td>False</td>\n",
       "    </tr>\n",
       "    <tr>\n",
       "      <th>2022-07-31</th>\n",
       "      <td>79</td>\n",
       "      <td>False</td>\n",
       "    </tr>\n",
       "    <tr>\n",
       "      <th>2022-08-07</th>\n",
       "      <td>78</td>\n",
       "      <td>False</td>\n",
       "    </tr>\n",
       "    <tr>\n",
       "      <th>2022-08-14</th>\n",
       "      <td>74</td>\n",
       "      <td>False</td>\n",
       "    </tr>\n",
       "    <tr>\n",
       "      <th>2022-08-21</th>\n",
       "      <td>79</td>\n",
       "      <td>False</td>\n",
       "    </tr>\n",
       "    <tr>\n",
       "      <th>2022-08-28</th>\n",
       "      <td>78</td>\n",
       "      <td>False</td>\n",
       "    </tr>\n",
       "    <tr>\n",
       "      <th>2022-09-04</th>\n",
       "      <td>82</td>\n",
       "      <td>False</td>\n",
       "    </tr>\n",
       "    <tr>\n",
       "      <th>2022-09-11</th>\n",
       "      <td>85</td>\n",
       "      <td>False</td>\n",
       "    </tr>\n",
       "    <tr>\n",
       "      <th>2022-09-18</th>\n",
       "      <td>88</td>\n",
       "      <td>False</td>\n",
       "    </tr>\n",
       "    <tr>\n",
       "      <th>2022-09-25</th>\n",
       "      <td>86</td>\n",
       "      <td>False</td>\n",
       "    </tr>\n",
       "    <tr>\n",
       "      <th>2022-10-02</th>\n",
       "      <td>88</td>\n",
       "      <td>False</td>\n",
       "    </tr>\n",
       "    <tr>\n",
       "      <th>2022-10-09</th>\n",
       "      <td>91</td>\n",
       "      <td>False</td>\n",
       "    </tr>\n",
       "    <tr>\n",
       "      <th>2022-10-16</th>\n",
       "      <td>90</td>\n",
       "      <td>False</td>\n",
       "    </tr>\n",
       "    <tr>\n",
       "      <th>2022-10-23</th>\n",
       "      <td>86</td>\n",
       "      <td>False</td>\n",
       "    </tr>\n",
       "    <tr>\n",
       "      <th>2022-10-30</th>\n",
       "      <td>90</td>\n",
       "      <td>False</td>\n",
       "    </tr>\n",
       "    <tr>\n",
       "      <th>2022-11-06</th>\n",
       "      <td>87</td>\n",
       "      <td>False</td>\n",
       "    </tr>\n",
       "    <tr>\n",
       "      <th>2022-11-13</th>\n",
       "      <td>98</td>\n",
       "      <td>False</td>\n",
       "    </tr>\n",
       "    <tr>\n",
       "      <th>2022-11-20</th>\n",
       "      <td>84</td>\n",
       "      <td>False</td>\n",
       "    </tr>\n",
       "    <tr>\n",
       "      <th>2022-11-27</th>\n",
       "      <td>91</td>\n",
       "      <td>False</td>\n",
       "    </tr>\n",
       "    <tr>\n",
       "      <th>2022-12-04</th>\n",
       "      <td>93</td>\n",
       "      <td>False</td>\n",
       "    </tr>\n",
       "    <tr>\n",
       "      <th>2022-12-11</th>\n",
       "      <td>93</td>\n",
       "      <td>False</td>\n",
       "    </tr>\n",
       "    <tr>\n",
       "      <th>2022-12-18</th>\n",
       "      <td>77</td>\n",
       "      <td>False</td>\n",
       "    </tr>\n",
       "    <tr>\n",
       "      <th>2022-12-25</th>\n",
       "      <td>69</td>\n",
       "      <td>False</td>\n",
       "    </tr>\n",
       "    <tr>\n",
       "      <th>2023-01-01</th>\n",
       "      <td>82</td>\n",
       "      <td>False</td>\n",
       "    </tr>\n",
       "    <tr>\n",
       "      <th>2023-01-08</th>\n",
       "      <td>87</td>\n",
       "      <td>False</td>\n",
       "    </tr>\n",
       "    <tr>\n",
       "      <th>2023-01-15</th>\n",
       "      <td>87</td>\n",
       "      <td>False</td>\n",
       "    </tr>\n",
       "    <tr>\n",
       "      <th>2023-01-22</th>\n",
       "      <td>91</td>\n",
       "      <td>False</td>\n",
       "    </tr>\n",
       "    <tr>\n",
       "      <th>2023-01-29</th>\n",
       "      <td>95</td>\n",
       "      <td>False</td>\n",
       "    </tr>\n",
       "    <tr>\n",
       "      <th>2023-02-05</th>\n",
       "      <td>90</td>\n",
       "      <td>False</td>\n",
       "    </tr>\n",
       "    <tr>\n",
       "      <th>2023-02-12</th>\n",
       "      <td>91</td>\n",
       "      <td>False</td>\n",
       "    </tr>\n",
       "    <tr>\n",
       "      <th>2023-02-19</th>\n",
       "      <td>91</td>\n",
       "      <td>False</td>\n",
       "    </tr>\n",
       "    <tr>\n",
       "      <th>2023-02-26</th>\n",
       "      <td>93</td>\n",
       "      <td>False</td>\n",
       "    </tr>\n",
       "    <tr>\n",
       "      <th>2023-03-05</th>\n",
       "      <td>89</td>\n",
       "      <td>False</td>\n",
       "    </tr>\n",
       "    <tr>\n",
       "      <th>2023-03-12</th>\n",
       "      <td>88</td>\n",
       "      <td>False</td>\n",
       "    </tr>\n",
       "    <tr>\n",
       "      <th>2023-03-19</th>\n",
       "      <td>88</td>\n",
       "      <td>False</td>\n",
       "    </tr>\n",
       "    <tr>\n",
       "      <th>2023-03-26</th>\n",
       "      <td>92</td>\n",
       "      <td>False</td>\n",
       "    </tr>\n",
       "    <tr>\n",
       "      <th>2023-04-02</th>\n",
       "      <td>81</td>\n",
       "      <td>False</td>\n",
       "    </tr>\n",
       "    <tr>\n",
       "      <th>2023-04-09</th>\n",
       "      <td>84</td>\n",
       "      <td>False</td>\n",
       "    </tr>\n",
       "    <tr>\n",
       "      <th>2023-04-16</th>\n",
       "      <td>91</td>\n",
       "      <td>True</td>\n",
       "    </tr>\n",
       "  </tbody>\n",
       "</table>\n",
       "</div>"
      ],
      "text/plain": [
       "            machine learning  isPartial\n",
       "date                                   \n",
       "2022-05-01                90      False\n",
       "2022-05-08               100      False\n",
       "2022-05-15                87      False\n",
       "2022-05-22                85      False\n",
       "2022-05-29                81      False\n",
       "2022-06-05                87      False\n",
       "2022-06-12                89      False\n",
       "2022-06-19                89      False\n",
       "2022-06-26                83      False\n",
       "2022-07-03                80      False\n",
       "2022-07-10                78      False\n",
       "2022-07-17                84      False\n",
       "2022-07-24                81      False\n",
       "2022-07-31                79      False\n",
       "2022-08-07                78      False\n",
       "2022-08-14                74      False\n",
       "2022-08-21                79      False\n",
       "2022-08-28                78      False\n",
       "2022-09-04                82      False\n",
       "2022-09-11                85      False\n",
       "2022-09-18                88      False\n",
       "2022-09-25                86      False\n",
       "2022-10-02                88      False\n",
       "2022-10-09                91      False\n",
       "2022-10-16                90      False\n",
       "2022-10-23                86      False\n",
       "2022-10-30                90      False\n",
       "2022-11-06                87      False\n",
       "2022-11-13                98      False\n",
       "2022-11-20                84      False\n",
       "2022-11-27                91      False\n",
       "2022-12-04                93      False\n",
       "2022-12-11                93      False\n",
       "2022-12-18                77      False\n",
       "2022-12-25                69      False\n",
       "2023-01-01                82      False\n",
       "2023-01-08                87      False\n",
       "2023-01-15                87      False\n",
       "2023-01-22                91      False\n",
       "2023-01-29                95      False\n",
       "2023-02-05                90      False\n",
       "2023-02-12                91      False\n",
       "2023-02-19                91      False\n",
       "2023-02-26                93      False\n",
       "2023-03-05                89      False\n",
       "2023-03-12                88      False\n",
       "2023-03-19                88      False\n",
       "2023-03-26                92      False\n",
       "2023-04-02                81      False\n",
       "2023-04-09                84      False\n",
       "2023-04-16                91       True"
      ]
     },
     "execution_count": 31,
     "metadata": {},
     "output_type": "execute_result"
    }
   ],
   "source": [
    "#Interest Over Time\n",
    "\n",
    "pytrends.interest_over_time()"
   ]
  },
  {
   "cell_type": "code",
   "execution_count": 32,
   "id": "d98fbbe0",
   "metadata": {},
   "outputs": [],
   "source": [
    "# Multirange Interest Over Time\n",
    "\n",
    "# pytrends.build_payload(kw_list=['pizza', 'bagel'], timeframe=['2022-09-04 2022-09-10', '2022-09-18 2022-09-24']))\n",
    "# pytrends.multirange_interest_over_time()"
   ]
  },
  {
   "cell_type": "code",
   "execution_count": 35,
   "id": "2ecef2d1",
   "metadata": {},
   "outputs": [
    {
     "data": {
      "text/html": [
       "<div>\n",
       "<style scoped>\n",
       "    .dataframe tbody tr th:only-of-type {\n",
       "        vertical-align: middle;\n",
       "    }\n",
       "\n",
       "    .dataframe tbody tr th {\n",
       "        vertical-align: top;\n",
       "    }\n",
       "\n",
       "    .dataframe thead th {\n",
       "        text-align: right;\n",
       "    }\n",
       "</style>\n",
       "<table border=\"1\" class=\"dataframe\">\n",
       "  <thead>\n",
       "    <tr style=\"text-align: right;\">\n",
       "      <th></th>\n",
       "      <th>machine learning</th>\n",
       "    </tr>\n",
       "    <tr>\n",
       "      <th>geoName</th>\n",
       "      <th></th>\n",
       "    </tr>\n",
       "  </thead>\n",
       "  <tbody>\n",
       "    <tr>\n",
       "      <th>India</th>\n",
       "      <td>100</td>\n",
       "    </tr>\n",
       "    <tr>\n",
       "      <th>Sri Lanka</th>\n",
       "      <td>78</td>\n",
       "    </tr>\n",
       "    <tr>\n",
       "      <th>Hong Kong</th>\n",
       "      <td>62</td>\n",
       "    </tr>\n",
       "    <tr>\n",
       "      <th>Malawi</th>\n",
       "      <td>62</td>\n",
       "    </tr>\n",
       "    <tr>\n",
       "      <th>Kenya</th>\n",
       "      <td>61</td>\n",
       "    </tr>\n",
       "  </tbody>\n",
       "</table>\n",
       "</div>"
      ],
      "text/plain": [
       "           machine learning\n",
       "geoName                    \n",
       "India                   100\n",
       "Sri Lanka                78\n",
       "Hong Kong                62\n",
       "Malawi                   62\n",
       "Kenya                    61"
      ]
     },
     "execution_count": 35,
     "metadata": {},
     "output_type": "execute_result"
    }
   ],
   "source": [
    "by_region = pytrends.interest_by_region(resolution='COUNTRY', inc_low_vol=True, inc_geo_code=False).sort_values(by = \"machine learning\", ascending=False)\n",
    "by_region.head()"
   ]
  },
  {
   "cell_type": "code",
   "execution_count": 36,
   "id": "a8adb88e",
   "metadata": {},
   "outputs": [
    {
     "data": {
      "text/html": [
       "<div>\n",
       "<style scoped>\n",
       "    .dataframe tbody tr th:only-of-type {\n",
       "        vertical-align: middle;\n",
       "    }\n",
       "\n",
       "    .dataframe tbody tr th {\n",
       "        vertical-align: top;\n",
       "    }\n",
       "\n",
       "    .dataframe thead th {\n",
       "        text-align: right;\n",
       "    }\n",
       "</style>\n",
       "<table border=\"1\" class=\"dataframe\">\n",
       "  <thead>\n",
       "    <tr style=\"text-align: right;\">\n",
       "      <th></th>\n",
       "      <th>machine learning</th>\n",
       "    </tr>\n",
       "    <tr>\n",
       "      <th>geoName</th>\n",
       "      <th></th>\n",
       "    </tr>\n",
       "  </thead>\n",
       "  <tbody>\n",
       "    <tr>\n",
       "      <th>India</th>\n",
       "      <td>100</td>\n",
       "    </tr>\n",
       "    <tr>\n",
       "      <th>Sri Lanka</th>\n",
       "      <td>78</td>\n",
       "    </tr>\n",
       "    <tr>\n",
       "      <th>Hong Kong</th>\n",
       "      <td>62</td>\n",
       "    </tr>\n",
       "    <tr>\n",
       "      <th>Malawi</th>\n",
       "      <td>62</td>\n",
       "    </tr>\n",
       "    <tr>\n",
       "      <th>Kenya</th>\n",
       "      <td>61</td>\n",
       "    </tr>\n",
       "    <tr>\n",
       "      <th>Lesotho</th>\n",
       "      <td>59</td>\n",
       "    </tr>\n",
       "    <tr>\n",
       "      <th>Madagascar</th>\n",
       "      <td>54</td>\n",
       "    </tr>\n",
       "    <tr>\n",
       "      <th>Mauritius</th>\n",
       "      <td>54</td>\n",
       "    </tr>\n",
       "    <tr>\n",
       "      <th>Lebanon</th>\n",
       "      <td>52</td>\n",
       "    </tr>\n",
       "  </tbody>\n",
       "</table>\n",
       "</div>"
      ],
      "text/plain": [
       "            machine learning\n",
       "geoName                     \n",
       "India                    100\n",
       "Sri Lanka                 78\n",
       "Hong Kong                 62\n",
       "Malawi                    62\n",
       "Kenya                     61\n",
       "Lesotho                   59\n",
       "Madagascar                54\n",
       "Mauritius                 54\n",
       "Lebanon                   52"
      ]
     },
     "execution_count": 36,
     "metadata": {},
     "output_type": "execute_result"
    }
   ],
   "source": [
    "# by region greater than >10 searches\n",
    "by_region[by_region[\"machine learning\"] > 50]"
   ]
  },
  {
   "cell_type": "code",
   "execution_count": 38,
   "id": "8d2590d8",
   "metadata": {},
   "outputs": [
    {
     "data": {
      "text/html": [
       "<div>\n",
       "<style scoped>\n",
       "    .dataframe tbody tr th:only-of-type {\n",
       "        vertical-align: middle;\n",
       "    }\n",
       "\n",
       "    .dataframe tbody tr th {\n",
       "        vertical-align: top;\n",
       "    }\n",
       "\n",
       "    .dataframe thead th {\n",
       "        text-align: right;\n",
       "    }\n",
       "</style>\n",
       "<table border=\"1\" class=\"dataframe\">\n",
       "  <thead>\n",
       "    <tr style=\"text-align: right;\">\n",
       "      <th></th>\n",
       "      <th>value</th>\n",
       "      <th>formattedValue</th>\n",
       "      <th>hasData</th>\n",
       "      <th>link</th>\n",
       "      <th>topic_mid</th>\n",
       "      <th>topic_title</th>\n",
       "      <th>topic_type</th>\n",
       "    </tr>\n",
       "  </thead>\n",
       "  <tbody>\n",
       "    <tr>\n",
       "      <th>0</th>\n",
       "      <td>100</td>\n",
       "      <td>100</td>\n",
       "      <td>True</td>\n",
       "      <td>/trends/explore?q=/m/01hyh_&amp;date=today+12-m&amp;ge...</td>\n",
       "      <td>/m/01hyh_</td>\n",
       "      <td>Machine learning</td>\n",
       "      <td>Software classification</td>\n",
       "    </tr>\n",
       "    <tr>\n",
       "      <th>1</th>\n",
       "      <td>95</td>\n",
       "      <td>95</td>\n",
       "      <td>True</td>\n",
       "      <td>/trends/explore?q=/m/0dkw5&amp;date=today+12-m&amp;geo=ES</td>\n",
       "      <td>/m/0dkw5</td>\n",
       "      <td>Machine</td>\n",
       "      <td>Topic</td>\n",
       "    </tr>\n",
       "    <tr>\n",
       "      <th>2</th>\n",
       "      <td>26</td>\n",
       "      <td>26</td>\n",
       "      <td>True</td>\n",
       "      <td>/trends/explore?q=/m/0191f8&amp;date=today+12-m&amp;ge...</td>\n",
       "      <td>/m/0191f8</td>\n",
       "      <td>Learning</td>\n",
       "      <td>Topic</td>\n",
       "    </tr>\n",
       "    <tr>\n",
       "      <th>3</th>\n",
       "      <td>12</td>\n",
       "      <td>12</td>\n",
       "      <td>True</td>\n",
       "      <td>/trends/explore?q=/m/026sq&amp;date=today+12-m&amp;geo=ES</td>\n",
       "      <td>/m/026sq</td>\n",
       "      <td>Data</td>\n",
       "      <td>Topic</td>\n",
       "    </tr>\n",
       "    <tr>\n",
       "      <th>4</th>\n",
       "      <td>10</td>\n",
       "      <td>10</td>\n",
       "      <td>True</td>\n",
       "      <td>/trends/explore?q=/m/0mkz&amp;date=today+12-m&amp;geo=ES</td>\n",
       "      <td>/m/0mkz</td>\n",
       "      <td>Artificial intelligence</td>\n",
       "      <td>Topic</td>\n",
       "    </tr>\n",
       "    <tr>\n",
       "      <th>5</th>\n",
       "      <td>9</td>\n",
       "      <td>9</td>\n",
       "      <td>True</td>\n",
       "      <td>/trends/explore?q=/m/05z1_&amp;date=today+12-m&amp;geo=ES</td>\n",
       "      <td>/m/05z1_</td>\n",
       "      <td>Python</td>\n",
       "      <td>Programming language</td>\n",
       "    </tr>\n",
       "    <tr>\n",
       "      <th>6</th>\n",
       "      <td>6</td>\n",
       "      <td>6</td>\n",
       "      <td>True</td>\n",
       "      <td>/trends/explore?q=/m/0h1fn8h&amp;date=today+12-m&amp;g...</td>\n",
       "      <td>/m/0h1fn8h</td>\n",
       "      <td>Deep learning</td>\n",
       "      <td>Topic</td>\n",
       "    </tr>\n",
       "    <tr>\n",
       "      <th>7</th>\n",
       "      <td>5</td>\n",
       "      <td>5</td>\n",
       "      <td>True</td>\n",
       "      <td>/trends/explore?q=/m/02kwz2&amp;date=today+12-m&amp;ge...</td>\n",
       "      <td>/m/02kwz2</td>\n",
       "      <td>Intelligence</td>\n",
       "      <td>Topic</td>\n",
       "    </tr>\n",
       "    <tr>\n",
       "      <th>8</th>\n",
       "      <td>5</td>\n",
       "      <td>5</td>\n",
       "      <td>True</td>\n",
       "      <td>/trends/explore?q=/m/0jpv&amp;date=today+12-m&amp;geo=ES</td>\n",
       "      <td>/m/0jpv</td>\n",
       "      <td>Algorithm</td>\n",
       "      <td>Topic</td>\n",
       "    </tr>\n",
       "    <tr>\n",
       "      <th>9</th>\n",
       "      <td>4</td>\n",
       "      <td>4</td>\n",
       "      <td>True</td>\n",
       "      <td>/trends/explore?q=/m/06mq7&amp;date=today+12-m&amp;geo=ES</td>\n",
       "      <td>/m/06mq7</td>\n",
       "      <td>Science</td>\n",
       "      <td>School category</td>\n",
       "    </tr>\n",
       "    <tr>\n",
       "      <th>10</th>\n",
       "      <td>3</td>\n",
       "      <td>3</td>\n",
       "      <td>True</td>\n",
       "      <td>/trends/explore?q=/g/11c0q_9fcc&amp;date=today+12-...</td>\n",
       "      <td>/g/11c0q_9fcc</td>\n",
       "      <td>Artificial</td>\n",
       "      <td>Topic</td>\n",
       "    </tr>\n",
       "    <tr>\n",
       "      <th>11</th>\n",
       "      <td>3</td>\n",
       "      <td>3</td>\n",
       "      <td>True</td>\n",
       "      <td>/trends/explore?q=/m/0jt3_q3&amp;date=today+12-m&amp;g...</td>\n",
       "      <td>/m/0jt3_q3</td>\n",
       "      <td>Data science</td>\n",
       "      <td>Field of study</td>\n",
       "    </tr>\n",
       "    <tr>\n",
       "      <th>12</th>\n",
       "      <td>3</td>\n",
       "      <td>3</td>\n",
       "      <td>True</td>\n",
       "      <td>/trends/explore?q=/m/01klyk&amp;date=today+12-m&amp;ge...</td>\n",
       "      <td>/m/01klyk</td>\n",
       "      <td>Prediction</td>\n",
       "      <td>Topic</td>\n",
       "    </tr>\n",
       "    <tr>\n",
       "      <th>13</th>\n",
       "      <td>3</td>\n",
       "      <td>3</td>\n",
       "      <td>True</td>\n",
       "      <td>/trends/explore?q=/m/07hs4p&amp;date=today+12-m&amp;ge...</td>\n",
       "      <td>/m/07hs4p</td>\n",
       "      <td>Course</td>\n",
       "      <td>Education</td>\n",
       "    </tr>\n",
       "    <tr>\n",
       "      <th>14</th>\n",
       "      <td>3</td>\n",
       "      <td>3</td>\n",
       "      <td>True</td>\n",
       "      <td>/trends/explore?q=/m/05dhw&amp;date=today+12-m&amp;geo=ES</td>\n",
       "      <td>/m/05dhw</td>\n",
       "      <td>Artificial neural network</td>\n",
       "      <td>Topic</td>\n",
       "    </tr>\n",
       "    <tr>\n",
       "      <th>15</th>\n",
       "      <td>3</td>\n",
       "      <td>3</td>\n",
       "      <td>True</td>\n",
       "      <td>/trends/explore?q=/m/03f9cn&amp;date=today+12-m&amp;ge...</td>\n",
       "      <td>/m/03f9cn</td>\n",
       "      <td>Regression analysis</td>\n",
       "      <td>Topic</td>\n",
       "    </tr>\n",
       "    <tr>\n",
       "      <th>16</th>\n",
       "      <td>3</td>\n",
       "      <td>3</td>\n",
       "      <td>True</td>\n",
       "      <td>/trends/explore?q=/g/11m_gy8839&amp;date=today+12-...</td>\n",
       "      <td>/g/11m_gy8839</td>\n",
       "      <td>Machine Learning for Kids: A Project-Based Int...</td>\n",
       "      <td>Book by Dale Lane</td>\n",
       "    </tr>\n",
       "    <tr>\n",
       "      <th>17</th>\n",
       "      <td>2</td>\n",
       "      <td>2</td>\n",
       "      <td>True</td>\n",
       "      <td>/trends/explore?q=/m/0h97pvq&amp;date=today+12-m&amp;g...</td>\n",
       "      <td>/m/0h97pvq</td>\n",
       "      <td>scikit-learn</td>\n",
       "      <td>Software</td>\n",
       "    </tr>\n",
       "    <tr>\n",
       "      <th>18</th>\n",
       "      <td>2</td>\n",
       "      <td>2</td>\n",
       "      <td>True</td>\n",
       "      <td>/trends/explore?q=/m/04y7lrx&amp;date=today+12-m&amp;g...</td>\n",
       "      <td>/m/04y7lrx</td>\n",
       "      <td>Microsoft Azure</td>\n",
       "      <td>Computer application</td>\n",
       "    </tr>\n",
       "    <tr>\n",
       "      <th>19</th>\n",
       "      <td>2</td>\n",
       "      <td>2</td>\n",
       "      <td>True</td>\n",
       "      <td>/trends/explore?q=/m/059bs&amp;date=today+12-m&amp;geo=ES</td>\n",
       "      <td>/m/059bs</td>\n",
       "      <td>Neuron</td>\n",
       "      <td>Topic</td>\n",
       "    </tr>\n",
       "    <tr>\n",
       "      <th>20</th>\n",
       "      <td>2</td>\n",
       "      <td>2</td>\n",
       "      <td>True</td>\n",
       "      <td>/trends/explore?q=/m/02cck&amp;date=today+12-m&amp;geo=ES</td>\n",
       "      <td>/m/02cck</td>\n",
       "      <td>Data set</td>\n",
       "      <td>Topic</td>\n",
       "    </tr>\n",
       "    <tr>\n",
       "      <th>21</th>\n",
       "      <td>2</td>\n",
       "      <td>2</td>\n",
       "      <td>True</td>\n",
       "      <td>/trends/explore?q=/m/016t_3&amp;date=today+12-m&amp;ge...</td>\n",
       "      <td>/m/016t_3</td>\n",
       "      <td>Master's Degree</td>\n",
       "      <td>Degree</td>\n",
       "    </tr>\n",
       "    <tr>\n",
       "      <th>22</th>\n",
       "      <td>2</td>\n",
       "      <td>2</td>\n",
       "      <td>True</td>\n",
       "      <td>/trends/explore?q=/m/05czq1&amp;date=today+12-m&amp;ge...</td>\n",
       "      <td>/m/05czq1</td>\n",
       "      <td>Statistical classification</td>\n",
       "      <td>Topic</td>\n",
       "    </tr>\n",
       "    <tr>\n",
       "      <th>23</th>\n",
       "      <td>2</td>\n",
       "      <td>2</td>\n",
       "      <td>True</td>\n",
       "      <td>/trends/explore?q=/m/0bj6r&amp;date=today+12-m&amp;geo=ES</td>\n",
       "      <td>/m/0bj6r</td>\n",
       "      <td>System</td>\n",
       "      <td>Topic</td>\n",
       "    </tr>\n",
       "    <tr>\n",
       "      <th>24</th>\n",
       "      <td>2</td>\n",
       "      <td>2</td>\n",
       "      <td>True</td>\n",
       "      <td>/trends/explore?q=/m/0bs2j8q&amp;date=today+12-m&amp;g...</td>\n",
       "      <td>/m/0bs2j8q</td>\n",
       "      <td>Big data</td>\n",
       "      <td>Topic</td>\n",
       "    </tr>\n",
       "  </tbody>\n",
       "</table>\n",
       "</div>"
      ],
      "text/plain": [
       "    value formattedValue  hasData  \\\n",
       "0     100            100     True   \n",
       "1      95             95     True   \n",
       "2      26             26     True   \n",
       "3      12             12     True   \n",
       "4      10             10     True   \n",
       "5       9              9     True   \n",
       "6       6              6     True   \n",
       "7       5              5     True   \n",
       "8       5              5     True   \n",
       "9       4              4     True   \n",
       "10      3              3     True   \n",
       "11      3              3     True   \n",
       "12      3              3     True   \n",
       "13      3              3     True   \n",
       "14      3              3     True   \n",
       "15      3              3     True   \n",
       "16      3              3     True   \n",
       "17      2              2     True   \n",
       "18      2              2     True   \n",
       "19      2              2     True   \n",
       "20      2              2     True   \n",
       "21      2              2     True   \n",
       "22      2              2     True   \n",
       "23      2              2     True   \n",
       "24      2              2     True   \n",
       "\n",
       "                                                 link      topic_mid  \\\n",
       "0   /trends/explore?q=/m/01hyh_&date=today+12-m&ge...      /m/01hyh_   \n",
       "1   /trends/explore?q=/m/0dkw5&date=today+12-m&geo=ES       /m/0dkw5   \n",
       "2   /trends/explore?q=/m/0191f8&date=today+12-m&ge...      /m/0191f8   \n",
       "3   /trends/explore?q=/m/026sq&date=today+12-m&geo=ES       /m/026sq   \n",
       "4    /trends/explore?q=/m/0mkz&date=today+12-m&geo=ES        /m/0mkz   \n",
       "5   /trends/explore?q=/m/05z1_&date=today+12-m&geo=ES       /m/05z1_   \n",
       "6   /trends/explore?q=/m/0h1fn8h&date=today+12-m&g...     /m/0h1fn8h   \n",
       "7   /trends/explore?q=/m/02kwz2&date=today+12-m&ge...      /m/02kwz2   \n",
       "8    /trends/explore?q=/m/0jpv&date=today+12-m&geo=ES        /m/0jpv   \n",
       "9   /trends/explore?q=/m/06mq7&date=today+12-m&geo=ES       /m/06mq7   \n",
       "10  /trends/explore?q=/g/11c0q_9fcc&date=today+12-...  /g/11c0q_9fcc   \n",
       "11  /trends/explore?q=/m/0jt3_q3&date=today+12-m&g...     /m/0jt3_q3   \n",
       "12  /trends/explore?q=/m/01klyk&date=today+12-m&ge...      /m/01klyk   \n",
       "13  /trends/explore?q=/m/07hs4p&date=today+12-m&ge...      /m/07hs4p   \n",
       "14  /trends/explore?q=/m/05dhw&date=today+12-m&geo=ES       /m/05dhw   \n",
       "15  /trends/explore?q=/m/03f9cn&date=today+12-m&ge...      /m/03f9cn   \n",
       "16  /trends/explore?q=/g/11m_gy8839&date=today+12-...  /g/11m_gy8839   \n",
       "17  /trends/explore?q=/m/0h97pvq&date=today+12-m&g...     /m/0h97pvq   \n",
       "18  /trends/explore?q=/m/04y7lrx&date=today+12-m&g...     /m/04y7lrx   \n",
       "19  /trends/explore?q=/m/059bs&date=today+12-m&geo=ES       /m/059bs   \n",
       "20  /trends/explore?q=/m/02cck&date=today+12-m&geo=ES       /m/02cck   \n",
       "21  /trends/explore?q=/m/016t_3&date=today+12-m&ge...      /m/016t_3   \n",
       "22  /trends/explore?q=/m/05czq1&date=today+12-m&ge...      /m/05czq1   \n",
       "23  /trends/explore?q=/m/0bj6r&date=today+12-m&geo=ES       /m/0bj6r   \n",
       "24  /trends/explore?q=/m/0bs2j8q&date=today+12-m&g...     /m/0bs2j8q   \n",
       "\n",
       "                                          topic_title               topic_type  \n",
       "0                                    Machine learning  Software classification  \n",
       "1                                             Machine                    Topic  \n",
       "2                                            Learning                    Topic  \n",
       "3                                                Data                    Topic  \n",
       "4                             Artificial intelligence                    Topic  \n",
       "5                                              Python     Programming language  \n",
       "6                                       Deep learning                    Topic  \n",
       "7                                        Intelligence                    Topic  \n",
       "8                                           Algorithm                    Topic  \n",
       "9                                             Science          School category  \n",
       "10                                         Artificial                    Topic  \n",
       "11                                       Data science           Field of study  \n",
       "12                                         Prediction                    Topic  \n",
       "13                                             Course                Education  \n",
       "14                          Artificial neural network                    Topic  \n",
       "15                                Regression analysis                    Topic  \n",
       "16  Machine Learning for Kids: A Project-Based Int...        Book by Dale Lane  \n",
       "17                                       scikit-learn                 Software  \n",
       "18                                    Microsoft Azure     Computer application  \n",
       "19                                             Neuron                    Topic  \n",
       "20                                           Data set                    Topic  \n",
       "21                                    Master's Degree                   Degree  \n",
       "22                         Statistical classification                    Topic  \n",
       "23                                             System                    Topic  \n",
       "24                                           Big data                    Topic  "
      ]
     },
     "execution_count": 38,
     "metadata": {},
     "output_type": "execute_result"
    }
   ],
   "source": [
    "# Related Queries\n",
    "\n",
    "# data1  = pytrends.related_queries()\n",
    "\n",
    "# data1['machine learning']['top'] \n",
    "\n",
    "#We indicate the query that we want to carry out\n",
    "words_list = [\"machine learning\"]\n",
    "  \n",
    "#We pass all the parameters we want to the request (filtered)\n",
    "pytrends.build_payload(words_list, cat=0, timeframe=\"today 12-m\", geo=\"ES\")\n",
    "    \n",
    "#We run pytrends.related_topics()\n",
    "pytrends.related_topics() \n",
    "\n",
    "#We indicate that we want the topics with an increasing volume\n",
    "#during the established period of time\n",
    "trend_analysis = pytrends.related_topics()\n",
    "trend_analysis.get(\"machine learning\").get(\"top\")\n",
    "#trend_analysis.get(\"cruises\").get(\"rising\")"
   ]
  },
  {
   "cell_type": "code",
   "execution_count": 101,
   "id": "657c117e",
   "metadata": {},
   "outputs": [],
   "source": [
    "# Related Queries\n",
    "\n",
    "rq  = pytrends.related_queries()\n",
    "\n",
    "#rq.get(\"machine learning\").get(\"top\")"
   ]
  },
  {
   "cell_type": "code",
   "execution_count": 103,
   "id": "d887ab40",
   "metadata": {},
   "outputs": [
    {
     "data": {
      "text/plain": [
       "dict_values([{'top':                               query  value\n",
       "0                            python    100\n",
       "1           python machine learning    100\n",
       "2                     deep learning     70\n",
       "3           que es machine learning     59\n",
       "4           inteligencia artificial     36\n",
       "5                      data science     31\n",
       "6         machine learning for kids     27\n",
       "7            azure machine learning     24\n",
       "8                          big data     23\n",
       "9           artificial intelligence     21\n",
       "10       que es el machine learning     20\n",
       "11                       tensorflow     19\n",
       "12      machine learning algorithms     17\n",
       "13                         coursera     13\n",
       "14                          scholar     11\n",
       "15                 redes neuronales     10\n",
       "16                          pytorch      8\n",
       "17                   google scholar      7\n",
       "18                     scikit learn      7\n",
       "19                 cross validation      7\n",
       "20  uci machine learning repository      5\n",
       "21                              llm      5\n",
       "22                     google colab      4\n",
       "23                              mlp      4\n",
       "24                             lstm      3, 'rising':                              query  value\n",
       "0                              llm  39650\n",
       "1                              mlp  37200\n",
       "2                             lstm  29800\n",
       "3                 stable diffusion  28850\n",
       "4                 cross validation    130\n",
       "5                     scikit learn    100\n",
       "6                          pytorch     90\n",
       "7  uci machine learning repository     60\n",
       "8                   google scholar     60\n",
       "9                 redes neuronales     50}])"
      ]
     },
     "execution_count": 103,
     "metadata": {},
     "output_type": "execute_result"
    }
   ],
   "source": [
    "rq.values()"
   ]
  },
  {
   "cell_type": "code",
   "execution_count": 51,
   "id": "83b58450",
   "metadata": {},
   "outputs": [
    {
     "data": {
      "text/html": [
       "<div>\n",
       "<style scoped>\n",
       "    .dataframe tbody tr th:only-of-type {\n",
       "        vertical-align: middle;\n",
       "    }\n",
       "\n",
       "    .dataframe tbody tr th {\n",
       "        vertical-align: top;\n",
       "    }\n",
       "\n",
       "    .dataframe thead th {\n",
       "        text-align: right;\n",
       "    }\n",
       "</style>\n",
       "<table border=\"1\" class=\"dataframe\">\n",
       "  <thead>\n",
       "    <tr style=\"text-align: right;\">\n",
       "      <th></th>\n",
       "      <th>mid</th>\n",
       "      <th>title</th>\n",
       "      <th>type</th>\n",
       "    </tr>\n",
       "  </thead>\n",
       "  <tbody>\n",
       "    <tr>\n",
       "      <th>0</th>\n",
       "      <td>/m/016jq3</td>\n",
       "      <td>Business intelligence</td>\n",
       "      <td>Topic</td>\n",
       "    </tr>\n",
       "    <tr>\n",
       "      <th>1</th>\n",
       "      <td>/g/11j319bvxm</td>\n",
       "      <td>The Mountain is You</td>\n",
       "      <td>Book by Brianna Wiest</td>\n",
       "    </tr>\n",
       "    <tr>\n",
       "      <th>2</th>\n",
       "      <td>/m/0b74sk</td>\n",
       "      <td>Business intelligence software</td>\n",
       "      <td>Type of software</td>\n",
       "    </tr>\n",
       "    <tr>\n",
       "      <th>3</th>\n",
       "      <td>/g/11bwfts8w_</td>\n",
       "      <td>John Haime</td>\n",
       "      <td>Author</td>\n",
       "    </tr>\n",
       "    <tr>\n",
       "      <th>4</th>\n",
       "      <td>/m/04ktdq</td>\n",
       "      <td>SAP NetWeaver Business Warehouse</td>\n",
       "      <td>Software industry</td>\n",
       "    </tr>\n",
       "  </tbody>\n",
       "</table>\n",
       "</div>"
      ],
      "text/plain": [
       "             mid                             title                   type\n",
       "0      /m/016jq3             Business intelligence                  Topic\n",
       "1  /g/11j319bvxm               The Mountain is You  Book by Brianna Wiest\n",
       "2      /m/0b74sk    Business intelligence software       Type of software\n",
       "3  /g/11bwfts8w_                        John Haime                 Author\n",
       "4      /m/04ktdq  SAP NetWeaver Business Warehouse      Software industry"
      ]
     },
     "execution_count": 51,
     "metadata": {},
     "output_type": "execute_result"
    }
   ],
   "source": [
    "# Keyword Suggestion\n",
    "\n",
    "import pandas as pd\n",
    "\n",
    "keywords = pytrends.suggestions(keyword='Business Intelligence')\n",
    "df = pd.DataFrame(keywords)\n",
    "df.tail()"
   ]
  },
  {
   "cell_type": "code",
   "execution_count": 78,
   "id": "5c3255ea",
   "metadata": {},
   "outputs": [
    {
     "data": {
      "text/html": [
       "<div>\n",
       "<style scoped>\n",
       "    .dataframe tbody tr th:only-of-type {\n",
       "        vertical-align: middle;\n",
       "    }\n",
       "\n",
       "    .dataframe tbody tr th {\n",
       "        vertical-align: top;\n",
       "    }\n",
       "\n",
       "    .dataframe thead th {\n",
       "        text-align: right;\n",
       "    }\n",
       "</style>\n",
       "<table border=\"1\" class=\"dataframe\">\n",
       "  <thead>\n",
       "    <tr style=\"text-align: right;\">\n",
       "      <th></th>\n",
       "      <th>mid</th>\n",
       "      <th>title</th>\n",
       "      <th>type</th>\n",
       "    </tr>\n",
       "  </thead>\n",
       "  <tbody>\n",
       "    <tr>\n",
       "      <th>0</th>\n",
       "      <td>/m/01hyh_</td>\n",
       "      <td>Machine learning</td>\n",
       "      <td>Field of study</td>\n",
       "    </tr>\n",
       "    <tr>\n",
       "      <th>1</th>\n",
       "      <td>/g/11m_gy8839</td>\n",
       "      <td>Machine Learning for Kids: A Project-Based Int...</td>\n",
       "      <td>Book by Dale Lane</td>\n",
       "    </tr>\n",
       "    <tr>\n",
       "      <th>2</th>\n",
       "      <td>/g/11f2sl5v8_</td>\n",
       "      <td>Automated machine learning</td>\n",
       "      <td>Topic</td>\n",
       "    </tr>\n",
       "    <tr>\n",
       "      <th>3</th>\n",
       "      <td>/g/11dxqcx7f2</td>\n",
       "      <td>Deep Learning with Python</td>\n",
       "      <td>Book by François Chollet</td>\n",
       "    </tr>\n",
       "    <tr>\n",
       "      <th>4</th>\n",
       "      <td>/g/11h191mm4z</td>\n",
       "      <td>Mathematics for Machine Learning</td>\n",
       "      <td>Book by A. Aldo Faisal, Cheng Soon Ong, and Ma...</td>\n",
       "    </tr>\n",
       "  </tbody>\n",
       "</table>\n",
       "</div>"
      ],
      "text/plain": [
       "             mid                                              title  \\\n",
       "0      /m/01hyh_                                   Machine learning   \n",
       "1  /g/11m_gy8839  Machine Learning for Kids: A Project-Based Int...   \n",
       "2  /g/11f2sl5v8_                         Automated machine learning   \n",
       "3  /g/11dxqcx7f2                          Deep Learning with Python   \n",
       "4  /g/11h191mm4z                   Mathematics for Machine Learning   \n",
       "\n",
       "                                                type  \n",
       "0                                     Field of study  \n",
       "1                                  Book by Dale Lane  \n",
       "2                                              Topic  \n",
       "3                           Book by François Chollet  \n",
       "4  Book by A. Aldo Faisal, Cheng Soon Ong, and Ma...  "
      ]
     },
     "execution_count": 78,
     "metadata": {},
     "output_type": "execute_result"
    }
   ],
   "source": [
    "keywords = pytrends.suggestions(keyword='machine learning')\n",
    "df = pd.DataFrame(keywords)\n",
    "df.tail()"
   ]
  },
  {
   "cell_type": "code",
   "execution_count": 114,
   "id": "7742b57d",
   "metadata": {},
   "outputs": [
    {
     "data": {
      "text/html": [
       "<div>\n",
       "<style scoped>\n",
       "    .dataframe tbody tr th:only-of-type {\n",
       "        vertical-align: middle;\n",
       "    }\n",
       "\n",
       "    .dataframe tbody tr th {\n",
       "        vertical-align: top;\n",
       "    }\n",
       "\n",
       "    .dataframe thead th {\n",
       "        text-align: right;\n",
       "    }\n",
       "</style>\n",
       "<table border=\"1\" class=\"dataframe\">\n",
       "  <thead>\n",
       "    <tr style=\"text-align: right;\">\n",
       "      <th></th>\n",
       "      <th>0</th>\n",
       "    </tr>\n",
       "  </thead>\n",
       "  <tbody>\n",
       "    <tr>\n",
       "      <th>0</th>\n",
       "      <td>崩壊スターレイル</td>\n",
       "    </tr>\n",
       "    <tr>\n",
       "      <th>1</th>\n",
       "      <td>エラーゲームリセット</td>\n",
       "    </tr>\n",
       "    <tr>\n",
       "      <th>2</th>\n",
       "      <td>刀剣乱舞</td>\n",
       "    </tr>\n",
       "    <tr>\n",
       "      <th>3</th>\n",
       "      <td>Ispace</td>\n",
       "    </tr>\n",
       "    <tr>\n",
       "      <th>4</th>\n",
       "      <td>福知山線脱線事故</td>\n",
       "    </tr>\n",
       "    <tr>\n",
       "      <th>5</th>\n",
       "      <td>山陽新幹線 広島駅 不審物</td>\n",
       "    </tr>\n",
       "    <tr>\n",
       "      <th>6</th>\n",
       "      <td>LiSA</td>\n",
       "    </tr>\n",
       "    <tr>\n",
       "      <th>7</th>\n",
       "      <td>BTS</td>\n",
       "    </tr>\n",
       "    <tr>\n",
       "      <th>8</th>\n",
       "      <td>スーダン</td>\n",
       "    </tr>\n",
       "    <tr>\n",
       "      <th>9</th>\n",
       "      <td>ブライトン</td>\n",
       "    </tr>\n",
       "    <tr>\n",
       "      <th>10</th>\n",
       "      <td>NHK</td>\n",
       "    </tr>\n",
       "    <tr>\n",
       "      <th>11</th>\n",
       "      <td>鹿島アントラーズ</td>\n",
       "    </tr>\n",
       "    <tr>\n",
       "      <th>12</th>\n",
       "      <td>崩壊スターレイル</td>\n",
       "    </tr>\n",
       "    <tr>\n",
       "      <th>13</th>\n",
       "      <td>函館市長選挙</td>\n",
       "    </tr>\n",
       "    <tr>\n",
       "      <th>14</th>\n",
       "      <td>大田区長選挙</td>\n",
       "    </tr>\n",
       "    <tr>\n",
       "      <th>15</th>\n",
       "      <td>芦屋市長選挙</td>\n",
       "    </tr>\n",
       "    <tr>\n",
       "      <th>16</th>\n",
       "      <td>鬼滅の刃刀鍛冶の里編</td>\n",
       "    </tr>\n",
       "    <tr>\n",
       "      <th>17</th>\n",
       "      <td>市議会議員選挙</td>\n",
       "    </tr>\n",
       "    <tr>\n",
       "      <th>18</th>\n",
       "      <td>スターダム</td>\n",
       "    </tr>\n",
       "    <tr>\n",
       "      <th>19</th>\n",
       "      <td>明石市長選挙</td>\n",
       "    </tr>\n",
       "  </tbody>\n",
       "</table>\n",
       "</div>"
      ],
      "text/plain": [
       "                0\n",
       "0        崩壊スターレイル\n",
       "1      エラーゲームリセット\n",
       "2            刀剣乱舞\n",
       "3          Ispace\n",
       "4        福知山線脱線事故\n",
       "5   山陽新幹線 広島駅 不審物\n",
       "6            LiSA\n",
       "7             BTS\n",
       "8            スーダン\n",
       "9           ブライトン\n",
       "10            NHK\n",
       "11       鹿島アントラーズ\n",
       "12       崩壊スターレイル\n",
       "13         函館市長選挙\n",
       "14         大田区長選挙\n",
       "15         芦屋市長選挙\n",
       "16     鬼滅の刃刀鍛冶の里編\n",
       "17        市議会議員選挙\n",
       "18          スターダム\n",
       "19         明石市長選挙"
      ]
     },
     "execution_count": 114,
     "metadata": {},
     "output_type": "execute_result"
    }
   ],
   "source": [
    "# Trending Searches\n",
    "\n",
    "pytrends.trending_searches(pn='united_states') # trending searches in real time for United States\n",
    "pytrends.trending_searches(pn='japan') # Japan"
   ]
  },
  {
   "cell_type": "code",
   "execution_count": 64,
   "id": "433a07ee",
   "metadata": {},
   "outputs": [
    {
     "data": {
      "text/html": [
       "<div>\n",
       "<style scoped>\n",
       "    .dataframe tbody tr th:only-of-type {\n",
       "        vertical-align: middle;\n",
       "    }\n",
       "\n",
       "    .dataframe tbody tr th {\n",
       "        vertical-align: top;\n",
       "    }\n",
       "\n",
       "    .dataframe thead th {\n",
       "        text-align: right;\n",
       "    }\n",
       "</style>\n",
       "<table border=\"1\" class=\"dataframe\">\n",
       "  <thead>\n",
       "    <tr style=\"text-align: right;\">\n",
       "      <th></th>\n",
       "      <th>title</th>\n",
       "      <th>entityNames</th>\n",
       "    </tr>\n",
       "  </thead>\n",
       "  <tbody>\n",
       "    <tr>\n",
       "      <th>0</th>\n",
       "      <td>Wriddhiman Saha, Indian Premier League</td>\n",
       "      <td>[Wriddhiman Saha, Indian Premier League]</td>\n",
       "    </tr>\n",
       "    <tr>\n",
       "      <th>1</th>\n",
       "      <td>Bengaluru FC, Super Cup, Indian Super League, ...</td>\n",
       "      <td>[Bengaluru FC, Super Cup, Indian Super League,...</td>\n",
       "    </tr>\n",
       "    <tr>\n",
       "      <th>2</th>\n",
       "      <td>Parkash Singh Badal, Punjab, Shiromani Akali D...</td>\n",
       "      <td>[Parkash Singh Badal, Punjab, Shiromani Akali ...</td>\n",
       "    </tr>\n",
       "    <tr>\n",
       "      <th>3</th>\n",
       "      <td>Rockstar Games, Grand Theft Auto, Take-Two Int...</td>\n",
       "      <td>[Rockstar Games, Grand Theft Auto, Take-Two In...</td>\n",
       "    </tr>\n",
       "    <tr>\n",
       "      <th>4</th>\n",
       "      <td>Andhra Pradesh, Andhra Pradesh Board of Interm...</td>\n",
       "      <td>[Andhra Pradesh, Andhra Pradesh Board of Inter...</td>\n",
       "    </tr>\n",
       "    <tr>\n",
       "      <th>5</th>\n",
       "      <td>Narendra Modi Stadium, Gujarat, Mumbai, Ahmeda...</td>\n",
       "      <td>[Narendra Modi Stadium, Gujarat, Mumbai, Ahmed...</td>\n",
       "    </tr>\n",
       "    <tr>\n",
       "      <th>6</th>\n",
       "      <td>T10 League, Dream11, Fantasy cricket</td>\n",
       "      <td>[T10 League, Dream11, Fantasy cricket]</td>\n",
       "    </tr>\n",
       "    <tr>\n",
       "      <th>7</th>\n",
       "      <td>First Republic Bank, Stock</td>\n",
       "      <td>[First Republic Bank, Stock]</td>\n",
       "    </tr>\n",
       "    <tr>\n",
       "      <th>8</th>\n",
       "      <td>The Witcher, Henry Cavill, Netflix, Geralt of ...</td>\n",
       "      <td>[The Witcher, Henry Cavill, Netflix, Geralt of...</td>\n",
       "    </tr>\n",
       "    <tr>\n",
       "      <th>9</th>\n",
       "      <td>Sara Tendulkar, Sachin Tendulkar</td>\n",
       "      <td>[Sara Tendulkar, Sachin Tendulkar]</td>\n",
       "    </tr>\n",
       "    <tr>\n",
       "      <th>10</th>\n",
       "      <td>Jalandhar, Punjab, The Tribune, Aam Aadmi Part...</td>\n",
       "      <td>[Jalandhar, Punjab, The Tribune, Aam Aadmi Par...</td>\n",
       "    </tr>\n",
       "    <tr>\n",
       "      <th>11</th>\n",
       "      <td>Shubman Gill</td>\n",
       "      <td>[Shubman Gill]</td>\n",
       "    </tr>\n",
       "    <tr>\n",
       "      <th>12</th>\n",
       "      <td>Sreenath Bhasi, Shane Nigam, Ranjith</td>\n",
       "      <td>[Sreenath Bhasi, Shane Nigam, Ranjith]</td>\n",
       "    </tr>\n",
       "    <tr>\n",
       "      <th>13</th>\n",
       "      <td>Badminton Asia Championships, PV Sindhu, Prann...</td>\n",
       "      <td>[Badminton Asia Championships, PV Sindhu, Pran...</td>\n",
       "    </tr>\n",
       "    <tr>\n",
       "      <th>14</th>\n",
       "      <td>Chargesheet, Kot Kapura, Badal, Sukhbir Singh ...</td>\n",
       "      <td>[Chargesheet, Kot Kapura, Badal, Sukhbir Singh...</td>\n",
       "    </tr>\n",
       "    <tr>\n",
       "      <th>15</th>\n",
       "      <td>jailer, Civil service entrance examination, Of...</td>\n",
       "      <td>[jailer, Civil service entrance examination, O...</td>\n",
       "    </tr>\n",
       "    <tr>\n",
       "      <th>16</th>\n",
       "      <td>Indian Navy, Chief of the Naval Staff of India...</td>\n",
       "      <td>[Indian Navy, Chief of the Naval Staff of Indi...</td>\n",
       "    </tr>\n",
       "    <tr>\n",
       "      <th>17</th>\n",
       "      <td>Uttar Pradesh, Bharatiya Janata Party, Samajwa...</td>\n",
       "      <td>[Uttar Pradesh, Bharatiya Janata Party, Samajw...</td>\n",
       "    </tr>\n",
       "    <tr>\n",
       "      <th>18</th>\n",
       "      <td>Odisha, Uttar Pradesh State Board of High Scho...</td>\n",
       "      <td>[Odisha, Uttar Pradesh State Board of High Sch...</td>\n",
       "    </tr>\n",
       "    <tr>\n",
       "      <th>19</th>\n",
       "      <td>Chelsea F.C., Southampton F.C., Premier League...</td>\n",
       "      <td>[Chelsea F.C., Southampton F.C., Premier Leagu...</td>\n",
       "    </tr>\n",
       "    <tr>\n",
       "      <th>20</th>\n",
       "      <td>Anand Mohan Singh, Bihar, Nitish Kumar, G. Kri...</td>\n",
       "      <td>[Anand Mohan Singh, Bihar, Nitish Kumar, G. Kr...</td>\n",
       "    </tr>\n",
       "    <tr>\n",
       "      <th>21</th>\n",
       "      <td>Atiq Ahmed, Asaduddin Owaisi, India, News18 In...</td>\n",
       "      <td>[Atiq Ahmed, Asaduddin Owaisi, India, News18 I...</td>\n",
       "    </tr>\n",
       "    <tr>\n",
       "      <th>22</th>\n",
       "      <td>Indian Railways, Indian Railway Catering and T...</td>\n",
       "      <td>[Indian Railways, Indian Railway Catering and ...</td>\n",
       "    </tr>\n",
       "    <tr>\n",
       "      <th>23</th>\n",
       "      <td>Don Lemon, CNN, Tucker Carlson, Nikki Haley</td>\n",
       "      <td>[Don Lemon, CNN, Tucker Carlson, Nikki Haley]</td>\n",
       "    </tr>\n",
       "    <tr>\n",
       "      <th>24</th>\n",
       "      <td>Earthquake, Indonesia, Tsunami warning system,...</td>\n",
       "      <td>[Earthquake, Indonesia, Tsunami warning system...</td>\n",
       "    </tr>\n",
       "    <tr>\n",
       "      <th>25</th>\n",
       "      <td>Shaquille O'Neal, Los Angeles Lakers, NBA</td>\n",
       "      <td>[Shaquille O'Neal, Los Angeles Lakers, NBA]</td>\n",
       "    </tr>\n",
       "    <tr>\n",
       "      <th>26</th>\n",
       "      <td>Yogi Adityanath, Uttar Pradesh</td>\n",
       "      <td>[Yogi Adityanath, Uttar Pradesh]</td>\n",
       "    </tr>\n",
       "    <tr>\n",
       "      <th>27</th>\n",
       "      <td>Jimmy Butler, Miami Heat, Michael Jordan, Chic...</td>\n",
       "      <td>[Jimmy Butler, Miami Heat, Michael Jordan, Chi...</td>\n",
       "    </tr>\n",
       "    <tr>\n",
       "      <th>28</th>\n",
       "      <td>Chinese Super League, Shenzhen F.C., China, Be...</td>\n",
       "      <td>[Chinese Super League, Shenzhen F.C., China, B...</td>\n",
       "    </tr>\n",
       "    <tr>\n",
       "      <th>29</th>\n",
       "      <td>Ayodhya, Indian Hotels Company Limited, OYO Ro...</td>\n",
       "      <td>[Ayodhya, Indian Hotels Company Limited, OYO R...</td>\n",
       "    </tr>\n",
       "    <tr>\n",
       "      <th>30</th>\n",
       "      <td>Career, Student, Hononegah Community High Scho...</td>\n",
       "      <td>[Career, Student, Hononegah Community High Sch...</td>\n",
       "    </tr>\n",
       "    <tr>\n",
       "      <th>31</th>\n",
       "      <td>Ghazipur, Uttar Pradesh, School</td>\n",
       "      <td>[Ghazipur, Uttar Pradesh, School]</td>\n",
       "    </tr>\n",
       "    <tr>\n",
       "      <th>32</th>\n",
       "      <td>Maharashtra, Turtles, Nagpur, Pench National P...</td>\n",
       "      <td>[Maharashtra, Turtles, Nagpur, Pench National ...</td>\n",
       "    </tr>\n",
       "    <tr>\n",
       "      <th>33</th>\n",
       "      <td>Cryptocurrency, 2023, South Korea, Blockchain....</td>\n",
       "      <td>[Cryptocurrency, 2023, South Korea, Blockchain...</td>\n",
       "    </tr>\n",
       "    <tr>\n",
       "      <th>34</th>\n",
       "      <td>Mumbai Indians, Indian Premier League, Gujarat...</td>\n",
       "      <td>[Mumbai Indians, Indian Premier League, Gujara...</td>\n",
       "    </tr>\n",
       "    <tr>\n",
       "      <th>35</th>\n",
       "      <td>PSEB, 2023, Student, Punjab, Board examination</td>\n",
       "      <td>[PSEB, 2023, Student, Punjab, Board examination]</td>\n",
       "    </tr>\n",
       "    <tr>\n",
       "      <th>36</th>\n",
       "      <td>Kerala, Mobile phone</td>\n",
       "      <td>[Kerala, Mobile phone]</td>\n",
       "    </tr>\n",
       "    <tr>\n",
       "      <th>37</th>\n",
       "      <td>Krunal Pandya, Hardik Pandya, All-rounder</td>\n",
       "      <td>[Krunal Pandya, Hardik Pandya, All-rounder]</td>\n",
       "    </tr>\n",
       "    <tr>\n",
       "      <th>38</th>\n",
       "      <td>Indian Premier League, Shubman Gill, Gary Kirs...</td>\n",
       "      <td>[Indian Premier League, Shubman Gill, Gary Kir...</td>\n",
       "    </tr>\n",
       "    <tr>\n",
       "      <th>39</th>\n",
       "      <td>Mamukkoya</td>\n",
       "      <td>[Mamukkoya]</td>\n",
       "    </tr>\n",
       "    <tr>\n",
       "      <th>40</th>\n",
       "      <td>National Council of Educational Research and T...</td>\n",
       "      <td>[National Council of Educational Research and ...</td>\n",
       "    </tr>\n",
       "    <tr>\n",
       "      <th>41</th>\n",
       "      <td>Uttar Pradesh, Board examination</td>\n",
       "      <td>[Uttar Pradesh, Board examination]</td>\n",
       "    </tr>\n",
       "    <tr>\n",
       "      <th>42</th>\n",
       "      <td>Iran, Protest</td>\n",
       "      <td>[Iran, Protest]</td>\n",
       "    </tr>\n",
       "  </tbody>\n",
       "</table>\n",
       "</div>"
      ],
      "text/plain": [
       "                                                title  \\\n",
       "0              Wriddhiman Saha, Indian Premier League   \n",
       "1   Bengaluru FC, Super Cup, Indian Super League, ...   \n",
       "2   Parkash Singh Badal, Punjab, Shiromani Akali D...   \n",
       "3   Rockstar Games, Grand Theft Auto, Take-Two Int...   \n",
       "4   Andhra Pradesh, Andhra Pradesh Board of Interm...   \n",
       "5   Narendra Modi Stadium, Gujarat, Mumbai, Ahmeda...   \n",
       "6                T10 League, Dream11, Fantasy cricket   \n",
       "7                          First Republic Bank, Stock   \n",
       "8   The Witcher, Henry Cavill, Netflix, Geralt of ...   \n",
       "9                    Sara Tendulkar, Sachin Tendulkar   \n",
       "10  Jalandhar, Punjab, The Tribune, Aam Aadmi Part...   \n",
       "11                                       Shubman Gill   \n",
       "12               Sreenath Bhasi, Shane Nigam, Ranjith   \n",
       "13  Badminton Asia Championships, PV Sindhu, Prann...   \n",
       "14  Chargesheet, Kot Kapura, Badal, Sukhbir Singh ...   \n",
       "15  jailer, Civil service entrance examination, Of...   \n",
       "16  Indian Navy, Chief of the Naval Staff of India...   \n",
       "17  Uttar Pradesh, Bharatiya Janata Party, Samajwa...   \n",
       "18  Odisha, Uttar Pradesh State Board of High Scho...   \n",
       "19  Chelsea F.C., Southampton F.C., Premier League...   \n",
       "20  Anand Mohan Singh, Bihar, Nitish Kumar, G. Kri...   \n",
       "21  Atiq Ahmed, Asaduddin Owaisi, India, News18 In...   \n",
       "22  Indian Railways, Indian Railway Catering and T...   \n",
       "23        Don Lemon, CNN, Tucker Carlson, Nikki Haley   \n",
       "24  Earthquake, Indonesia, Tsunami warning system,...   \n",
       "25          Shaquille O'Neal, Los Angeles Lakers, NBA   \n",
       "26                     Yogi Adityanath, Uttar Pradesh   \n",
       "27  Jimmy Butler, Miami Heat, Michael Jordan, Chic...   \n",
       "28  Chinese Super League, Shenzhen F.C., China, Be...   \n",
       "29  Ayodhya, Indian Hotels Company Limited, OYO Ro...   \n",
       "30  Career, Student, Hononegah Community High Scho...   \n",
       "31                    Ghazipur, Uttar Pradesh, School   \n",
       "32  Maharashtra, Turtles, Nagpur, Pench National P...   \n",
       "33  Cryptocurrency, 2023, South Korea, Blockchain....   \n",
       "34  Mumbai Indians, Indian Premier League, Gujarat...   \n",
       "35     PSEB, 2023, Student, Punjab, Board examination   \n",
       "36                               Kerala, Mobile phone   \n",
       "37          Krunal Pandya, Hardik Pandya, All-rounder   \n",
       "38  Indian Premier League, Shubman Gill, Gary Kirs...   \n",
       "39                                          Mamukkoya   \n",
       "40  National Council of Educational Research and T...   \n",
       "41                   Uttar Pradesh, Board examination   \n",
       "42                                      Iran, Protest   \n",
       "\n",
       "                                          entityNames  \n",
       "0            [Wriddhiman Saha, Indian Premier League]  \n",
       "1   [Bengaluru FC, Super Cup, Indian Super League,...  \n",
       "2   [Parkash Singh Badal, Punjab, Shiromani Akali ...  \n",
       "3   [Rockstar Games, Grand Theft Auto, Take-Two In...  \n",
       "4   [Andhra Pradesh, Andhra Pradesh Board of Inter...  \n",
       "5   [Narendra Modi Stadium, Gujarat, Mumbai, Ahmed...  \n",
       "6              [T10 League, Dream11, Fantasy cricket]  \n",
       "7                        [First Republic Bank, Stock]  \n",
       "8   [The Witcher, Henry Cavill, Netflix, Geralt of...  \n",
       "9                  [Sara Tendulkar, Sachin Tendulkar]  \n",
       "10  [Jalandhar, Punjab, The Tribune, Aam Aadmi Par...  \n",
       "11                                     [Shubman Gill]  \n",
       "12             [Sreenath Bhasi, Shane Nigam, Ranjith]  \n",
       "13  [Badminton Asia Championships, PV Sindhu, Pran...  \n",
       "14  [Chargesheet, Kot Kapura, Badal, Sukhbir Singh...  \n",
       "15  [jailer, Civil service entrance examination, O...  \n",
       "16  [Indian Navy, Chief of the Naval Staff of Indi...  \n",
       "17  [Uttar Pradesh, Bharatiya Janata Party, Samajw...  \n",
       "18  [Odisha, Uttar Pradesh State Board of High Sch...  \n",
       "19  [Chelsea F.C., Southampton F.C., Premier Leagu...  \n",
       "20  [Anand Mohan Singh, Bihar, Nitish Kumar, G. Kr...  \n",
       "21  [Atiq Ahmed, Asaduddin Owaisi, India, News18 I...  \n",
       "22  [Indian Railways, Indian Railway Catering and ...  \n",
       "23      [Don Lemon, CNN, Tucker Carlson, Nikki Haley]  \n",
       "24  [Earthquake, Indonesia, Tsunami warning system...  \n",
       "25        [Shaquille O'Neal, Los Angeles Lakers, NBA]  \n",
       "26                   [Yogi Adityanath, Uttar Pradesh]  \n",
       "27  [Jimmy Butler, Miami Heat, Michael Jordan, Chi...  \n",
       "28  [Chinese Super League, Shenzhen F.C., China, B...  \n",
       "29  [Ayodhya, Indian Hotels Company Limited, OYO R...  \n",
       "30  [Career, Student, Hononegah Community High Sch...  \n",
       "31                  [Ghazipur, Uttar Pradesh, School]  \n",
       "32  [Maharashtra, Turtles, Nagpur, Pench National ...  \n",
       "33  [Cryptocurrency, 2023, South Korea, Blockchain...  \n",
       "34  [Mumbai Indians, Indian Premier League, Gujara...  \n",
       "35   [PSEB, 2023, Student, Punjab, Board examination]  \n",
       "36                             [Kerala, Mobile phone]  \n",
       "37        [Krunal Pandya, Hardik Pandya, All-rounder]  \n",
       "38  [Indian Premier League, Shubman Gill, Gary Kir...  \n",
       "39                                        [Mamukkoya]  \n",
       "40  [National Council of Educational Research and ...  \n",
       "41                 [Uttar Pradesh, Board examination]  \n",
       "42                                    [Iran, Protest]  "
      ]
     },
     "execution_count": 64,
     "metadata": {},
     "output_type": "execute_result"
    }
   ],
   "source": [
    "# Realtime Search Trends\n",
    "\n",
    "pytrends.realtime_trending_searches(pn='US') # realtime search trends for United States\n",
    "pytrends.realtime_trending_searches(pn='IN') # India"
   ]
  },
  {
   "cell_type": "code",
   "execution_count": 100,
   "id": "311dc7b9",
   "metadata": {},
   "outputs": [
    {
     "data": {
      "text/html": [
       "<div>\n",
       "<style scoped>\n",
       "    .dataframe tbody tr th:only-of-type {\n",
       "        vertical-align: middle;\n",
       "    }\n",
       "\n",
       "    .dataframe tbody tr th {\n",
       "        vertical-align: top;\n",
       "    }\n",
       "\n",
       "    .dataframe thead th {\n",
       "        text-align: right;\n",
       "    }\n",
       "</style>\n",
       "<table border=\"1\" class=\"dataframe\">\n",
       "  <thead>\n",
       "    <tr style=\"text-align: right;\">\n",
       "      <th></th>\n",
       "      <th>title</th>\n",
       "      <th>exploreQuery</th>\n",
       "    </tr>\n",
       "  </thead>\n",
       "  <tbody>\n",
       "    <tr>\n",
       "      <th>0</th>\n",
       "      <td>Wordle</td>\n",
       "      <td></td>\n",
       "    </tr>\n",
       "    <tr>\n",
       "      <th>1</th>\n",
       "      <td>India vs England</td>\n",
       "      <td></td>\n",
       "    </tr>\n",
       "    <tr>\n",
       "      <th>2</th>\n",
       "      <td>Ukraine</td>\n",
       "      <td></td>\n",
       "    </tr>\n",
       "    <tr>\n",
       "      <th>3</th>\n",
       "      <td>Queen Elizabeth</td>\n",
       "      <td></td>\n",
       "    </tr>\n",
       "    <tr>\n",
       "      <th>4</th>\n",
       "      <td>Ind vs SA</td>\n",
       "      <td></td>\n",
       "    </tr>\n",
       "    <tr>\n",
       "      <th>5</th>\n",
       "      <td>World Cup</td>\n",
       "      <td></td>\n",
       "    </tr>\n",
       "    <tr>\n",
       "      <th>6</th>\n",
       "      <td>India vs West Indies</td>\n",
       "      <td></td>\n",
       "    </tr>\n",
       "    <tr>\n",
       "      <th>7</th>\n",
       "      <td>iPhone 14</td>\n",
       "      <td></td>\n",
       "    </tr>\n",
       "    <tr>\n",
       "      <th>8</th>\n",
       "      <td>Jeffrey Dahmer</td>\n",
       "      <td></td>\n",
       "    </tr>\n",
       "    <tr>\n",
       "      <th>9</th>\n",
       "      <td>Indian Premier League</td>\n",
       "      <td></td>\n",
       "    </tr>\n",
       "  </tbody>\n",
       "</table>\n",
       "</div>"
      ],
      "text/plain": [
       "                   title exploreQuery\n",
       "0                 Wordle             \n",
       "1       India vs England             \n",
       "2                Ukraine             \n",
       "3        Queen Elizabeth             \n",
       "4              Ind vs SA             \n",
       "5              World Cup             \n",
       "6   India vs West Indies             \n",
       "7              iPhone 14             \n",
       "8         Jeffrey Dahmer             \n",
       "9  Indian Premier League             "
      ]
     },
     "execution_count": 100,
     "metadata": {},
     "output_type": "execute_result"
    }
   ],
   "source": [
    "# Top cards in year\n",
    "\n",
    "pytrends.top_charts(2022, hl='en-US', tz=300, geo='GLOBAL')"
   ]
  },
  {
   "cell_type": "code",
   "execution_count": 109,
   "id": "36f189bc",
   "metadata": {},
   "outputs": [
    {
     "data": {
      "text/html": [
       "<div>\n",
       "<style scoped>\n",
       "    .dataframe tbody tr th:only-of-type {\n",
       "        vertical-align: middle;\n",
       "    }\n",
       "\n",
       "    .dataframe tbody tr th {\n",
       "        vertical-align: top;\n",
       "    }\n",
       "\n",
       "    .dataframe thead th {\n",
       "        text-align: right;\n",
       "    }\n",
       "</style>\n",
       "<table border=\"1\" class=\"dataframe\">\n",
       "  <thead>\n",
       "    <tr style=\"text-align: right;\">\n",
       "      <th></th>\n",
       "      <th>title</th>\n",
       "      <th>exploreQuery</th>\n",
       "    </tr>\n",
       "  </thead>\n",
       "  <tbody>\n",
       "    <tr>\n",
       "      <th>0</th>\n",
       "      <td>Australia vs India</td>\n",
       "      <td></td>\n",
       "    </tr>\n",
       "    <tr>\n",
       "      <th>1</th>\n",
       "      <td>India vs England</td>\n",
       "      <td></td>\n",
       "    </tr>\n",
       "    <tr>\n",
       "      <th>2</th>\n",
       "      <td>IPL</td>\n",
       "      <td></td>\n",
       "    </tr>\n",
       "    <tr>\n",
       "      <th>3</th>\n",
       "      <td>NBA</td>\n",
       "      <td></td>\n",
       "    </tr>\n",
       "    <tr>\n",
       "      <th>4</th>\n",
       "      <td>Euro 2021</td>\n",
       "      <td></td>\n",
       "    </tr>\n",
       "    <tr>\n",
       "      <th>5</th>\n",
       "      <td>Copa América</td>\n",
       "      <td>Copa America</td>\n",
       "    </tr>\n",
       "    <tr>\n",
       "      <th>6</th>\n",
       "      <td>India vs New Zealand</td>\n",
       "      <td></td>\n",
       "    </tr>\n",
       "    <tr>\n",
       "      <th>7</th>\n",
       "      <td>T20 World Cup</td>\n",
       "      <td></td>\n",
       "    </tr>\n",
       "    <tr>\n",
       "      <th>8</th>\n",
       "      <td>Squid Game</td>\n",
       "      <td></td>\n",
       "    </tr>\n",
       "    <tr>\n",
       "      <th>9</th>\n",
       "      <td>DMX</td>\n",
       "      <td></td>\n",
       "    </tr>\n",
       "  </tbody>\n",
       "</table>\n",
       "</div>"
      ],
      "text/plain": [
       "                  title  exploreQuery\n",
       "0    Australia vs India              \n",
       "1      India vs England              \n",
       "2                   IPL              \n",
       "3                   NBA              \n",
       "4             Euro 2021              \n",
       "5          Copa América  Copa America\n",
       "6  India vs New Zealand              \n",
       "7         T20 World Cup              \n",
       "8            Squid Game              \n",
       "9                   DMX              "
      ]
     },
     "execution_count": 109,
     "metadata": {},
     "output_type": "execute_result"
    }
   ],
   "source": [
    "pytrends.top_charts(2021, hl='en-US', tz=300, geo='GLOBAL')"
   ]
  },
  {
   "cell_type": "code",
   "execution_count": 110,
   "id": "ba53741a",
   "metadata": {},
   "outputs": [
    {
     "data": {
      "text/html": [
       "<div>\n",
       "<style scoped>\n",
       "    .dataframe tbody tr th:only-of-type {\n",
       "        vertical-align: middle;\n",
       "    }\n",
       "\n",
       "    .dataframe tbody tr th {\n",
       "        vertical-align: top;\n",
       "    }\n",
       "\n",
       "    .dataframe thead th {\n",
       "        text-align: right;\n",
       "    }\n",
       "</style>\n",
       "<table border=\"1\" class=\"dataframe\">\n",
       "  <thead>\n",
       "    <tr style=\"text-align: right;\">\n",
       "      <th></th>\n",
       "      <th>title</th>\n",
       "      <th>exploreQuery</th>\n",
       "    </tr>\n",
       "  </thead>\n",
       "  <tbody>\n",
       "    <tr>\n",
       "      <th>0</th>\n",
       "      <td>Coronavirus</td>\n",
       "      <td></td>\n",
       "    </tr>\n",
       "    <tr>\n",
       "      <th>1</th>\n",
       "      <td>Election results</td>\n",
       "      <td></td>\n",
       "    </tr>\n",
       "    <tr>\n",
       "      <th>2</th>\n",
       "      <td>Kobe Bryant</td>\n",
       "      <td></td>\n",
       "    </tr>\n",
       "    <tr>\n",
       "      <th>3</th>\n",
       "      <td>Zoom</td>\n",
       "      <td></td>\n",
       "    </tr>\n",
       "    <tr>\n",
       "      <th>4</th>\n",
       "      <td>IPL</td>\n",
       "      <td></td>\n",
       "    </tr>\n",
       "    <tr>\n",
       "      <th>5</th>\n",
       "      <td>India vs New Zealand</td>\n",
       "      <td></td>\n",
       "    </tr>\n",
       "    <tr>\n",
       "      <th>6</th>\n",
       "      <td>Coronavirus update</td>\n",
       "      <td></td>\n",
       "    </tr>\n",
       "    <tr>\n",
       "      <th>7</th>\n",
       "      <td>Coronavirus symptoms</td>\n",
       "      <td></td>\n",
       "    </tr>\n",
       "    <tr>\n",
       "      <th>8</th>\n",
       "      <td>Joe Biden</td>\n",
       "      <td></td>\n",
       "    </tr>\n",
       "    <tr>\n",
       "      <th>9</th>\n",
       "      <td>Google Classroom</td>\n",
       "      <td></td>\n",
       "    </tr>\n",
       "  </tbody>\n",
       "</table>\n",
       "</div>"
      ],
      "text/plain": [
       "                  title exploreQuery\n",
       "0           Coronavirus             \n",
       "1      Election results             \n",
       "2           Kobe Bryant             \n",
       "3                  Zoom             \n",
       "4                   IPL             \n",
       "5  India vs New Zealand             \n",
       "6    Coronavirus update             \n",
       "7  Coronavirus symptoms             \n",
       "8             Joe Biden             \n",
       "9      Google Classroom             "
      ]
     },
     "execution_count": 110,
     "metadata": {},
     "output_type": "execute_result"
    }
   ],
   "source": [
    "pytrends.top_charts(2020, hl='en-US', tz=300, geo='GLOBAL')"
   ]
  },
  {
   "cell_type": "code",
   "execution_count": 115,
   "id": "dca5b571",
   "metadata": {},
   "outputs": [
    {
     "data": {
      "text/html": [
       "<div>\n",
       "<style scoped>\n",
       "    .dataframe tbody tr th:only-of-type {\n",
       "        vertical-align: middle;\n",
       "    }\n",
       "\n",
       "    .dataframe tbody tr th {\n",
       "        vertical-align: top;\n",
       "    }\n",
       "\n",
       "    .dataframe thead th {\n",
       "        text-align: right;\n",
       "    }\n",
       "</style>\n",
       "<table border=\"1\" class=\"dataframe\">\n",
       "  <thead>\n",
       "    <tr style=\"text-align: right;\">\n",
       "      <th></th>\n",
       "      <th>value</th>\n",
       "      <th>formattedValue</th>\n",
       "      <th>hasData</th>\n",
       "      <th>link</th>\n",
       "      <th>topic_mid</th>\n",
       "      <th>topic_title</th>\n",
       "      <th>topic_type</th>\n",
       "    </tr>\n",
       "  </thead>\n",
       "  <tbody>\n",
       "    <tr>\n",
       "      <th>0</th>\n",
       "      <td>100</td>\n",
       "      <td>100</td>\n",
       "      <td>True</td>\n",
       "      <td>/trends/explore?q=/m/026sq&amp;date=today+12-m&amp;geo=ES</td>\n",
       "      <td>/m/026sq</td>\n",
       "      <td>Data</td>\n",
       "      <td>Topic</td>\n",
       "    </tr>\n",
       "    <tr>\n",
       "      <th>1</th>\n",
       "      <td>99</td>\n",
       "      <td>99</td>\n",
       "      <td>True</td>\n",
       "      <td>/trends/explore?q=/m/06mq7&amp;date=today+12-m&amp;geo=ES</td>\n",
       "      <td>/m/06mq7</td>\n",
       "      <td>Science</td>\n",
       "      <td>School category</td>\n",
       "    </tr>\n",
       "    <tr>\n",
       "      <th>2</th>\n",
       "      <td>96</td>\n",
       "      <td>96</td>\n",
       "      <td>True</td>\n",
       "      <td>/trends/explore?q=/m/0jt3_q3&amp;date=today+12-m&amp;g...</td>\n",
       "      <td>/m/0jt3_q3</td>\n",
       "      <td>Data science</td>\n",
       "      <td>Field of study</td>\n",
       "    </tr>\n",
       "    <tr>\n",
       "      <th>3</th>\n",
       "      <td>19</td>\n",
       "      <td>19</td>\n",
       "      <td>True</td>\n",
       "      <td>/trends/explore?q=/m/016t_3&amp;date=today+12-m&amp;ge...</td>\n",
       "      <td>/m/016t_3</td>\n",
       "      <td>Master's Degree</td>\n",
       "      <td>Degree</td>\n",
       "    </tr>\n",
       "    <tr>\n",
       "      <th>4</th>\n",
       "      <td>9</td>\n",
       "      <td>9</td>\n",
       "      <td>True</td>\n",
       "      <td>/trends/explore?q=/m/05z1_&amp;date=today+12-m&amp;geo=ES</td>\n",
       "      <td>/m/05z1_</td>\n",
       "      <td>Python</td>\n",
       "      <td>Programming language</td>\n",
       "    </tr>\n",
       "    <tr>\n",
       "      <th>5</th>\n",
       "      <td>8</td>\n",
       "      <td>8</td>\n",
       "      <td>True</td>\n",
       "      <td>/trends/explore?q=/m/07hs4p&amp;date=today+12-m&amp;ge...</td>\n",
       "      <td>/m/07hs4p</td>\n",
       "      <td>Course</td>\n",
       "      <td>Education</td>\n",
       "    </tr>\n",
       "    <tr>\n",
       "      <th>6</th>\n",
       "      <td>7</td>\n",
       "      <td>7</td>\n",
       "      <td>True</td>\n",
       "      <td>/trends/explore?q=/m/0bs2j8q&amp;date=today+12-m&amp;g...</td>\n",
       "      <td>/m/0bs2j8q</td>\n",
       "      <td>Big data</td>\n",
       "      <td>Topic</td>\n",
       "    </tr>\n",
       "    <tr>\n",
       "      <th>7</th>\n",
       "      <td>6</td>\n",
       "      <td>6</td>\n",
       "      <td>True</td>\n",
       "      <td>/trends/explore?q=/m/07tf8&amp;date=today+12-m&amp;geo=ES</td>\n",
       "      <td>/m/07tf8</td>\n",
       "      <td>University</td>\n",
       "      <td>School category</td>\n",
       "    </tr>\n",
       "    <tr>\n",
       "      <th>8</th>\n",
       "      <td>5</td>\n",
       "      <td>5</td>\n",
       "      <td>True</td>\n",
       "      <td>/trends/explore?q=/m/01hyh_&amp;date=today+12-m&amp;ge...</td>\n",
       "      <td>/m/01hyh_</td>\n",
       "      <td>Machine learning</td>\n",
       "      <td>Software classification</td>\n",
       "    </tr>\n",
       "    <tr>\n",
       "      <th>9</th>\n",
       "      <td>5</td>\n",
       "      <td>5</td>\n",
       "      <td>True</td>\n",
       "      <td>/trends/explore?q=/m/0dkw5&amp;date=today+12-m&amp;geo=ES</td>\n",
       "      <td>/m/0dkw5</td>\n",
       "      <td>Machine</td>\n",
       "      <td>Topic</td>\n",
       "    </tr>\n",
       "    <tr>\n",
       "      <th>10</th>\n",
       "      <td>5</td>\n",
       "      <td>5</td>\n",
       "      <td>True</td>\n",
       "      <td>/trends/explore?q=/m/07zy4y&amp;date=today+12-m&amp;ge...</td>\n",
       "      <td>/m/07zy4y</td>\n",
       "      <td>Data analysis</td>\n",
       "      <td>Topic</td>\n",
       "    </tr>\n",
       "    <tr>\n",
       "      <th>11</th>\n",
       "      <td>5</td>\n",
       "      <td>5</td>\n",
       "      <td>True</td>\n",
       "      <td>/trends/explore?q=/m/02gcn9&amp;date=today+12-m&amp;ge...</td>\n",
       "      <td>/m/02gcn9</td>\n",
       "      <td>Analytics</td>\n",
       "      <td>Topic</td>\n",
       "    </tr>\n",
       "    <tr>\n",
       "      <th>12</th>\n",
       "      <td>4</td>\n",
       "      <td>4</td>\n",
       "      <td>True</td>\n",
       "      <td>/trends/explore?q=/m/0mkz&amp;date=today+12-m&amp;geo=ES</td>\n",
       "      <td>/m/0mkz</td>\n",
       "      <td>Artificial intelligence</td>\n",
       "      <td>Topic</td>\n",
       "    </tr>\n",
       "    <tr>\n",
       "      <th>13</th>\n",
       "      <td>4</td>\n",
       "      <td>4</td>\n",
       "      <td>True</td>\n",
       "      <td>/trends/explore?q=/m/02w88k&amp;date=today+12-m&amp;ge...</td>\n",
       "      <td>/m/02w88k</td>\n",
       "      <td>Salary</td>\n",
       "      <td>Topic</td>\n",
       "    </tr>\n",
       "    <tr>\n",
       "      <th>14</th>\n",
       "      <td>4</td>\n",
       "      <td>4</td>\n",
       "      <td>True</td>\n",
       "      <td>/trends/explore?q=/g/121jnq1m&amp;date=today+12-m&amp;...</td>\n",
       "      <td>/g/121jnq1m</td>\n",
       "      <td>Business</td>\n",
       "      <td>Topic</td>\n",
       "    </tr>\n",
       "    <tr>\n",
       "      <th>15</th>\n",
       "      <td>3</td>\n",
       "      <td>3</td>\n",
       "      <td>True</td>\n",
       "      <td>/trends/explore?q=/m/02kwz2&amp;date=today+12-m&amp;ge...</td>\n",
       "      <td>/m/02kwz2</td>\n",
       "      <td>Intelligence</td>\n",
       "      <td>Topic</td>\n",
       "    </tr>\n",
       "    <tr>\n",
       "      <th>16</th>\n",
       "      <td>3</td>\n",
       "      <td>3</td>\n",
       "      <td>True</td>\n",
       "      <td>/trends/explore?q=/m/06mnr&amp;date=today+12-m&amp;geo=ES</td>\n",
       "      <td>/m/06mnr</td>\n",
       "      <td>Statistics</td>\n",
       "      <td>Discipline</td>\n",
       "    </tr>\n",
       "    <tr>\n",
       "      <th>17</th>\n",
       "      <td>3</td>\n",
       "      <td>3</td>\n",
       "      <td>True</td>\n",
       "      <td>/trends/explore?q=/m/0156dy&amp;date=today+12-m&amp;ge...</td>\n",
       "      <td>/m/0156dy</td>\n",
       "      <td>Project</td>\n",
       "      <td>Topic</td>\n",
       "    </tr>\n",
       "    <tr>\n",
       "      <th>18</th>\n",
       "      <td>3</td>\n",
       "      <td>3</td>\n",
       "      <td>True</td>\n",
       "      <td>/trends/explore?q=/g/121vr6rm&amp;date=today+12-m&amp;...</td>\n",
       "      <td>/g/121vr6rm</td>\n",
       "      <td>Analysis</td>\n",
       "      <td>Topic</td>\n",
       "    </tr>\n",
       "    <tr>\n",
       "      <th>19</th>\n",
       "      <td>3</td>\n",
       "      <td>3</td>\n",
       "      <td>True</td>\n",
       "      <td>/trends/explore?q=/m/04nhxw&amp;date=today+12-m&amp;ge...</td>\n",
       "      <td>/m/04nhxw</td>\n",
       "      <td>UOC Open University of Catalonia - Barcelona</td>\n",
       "      <td>Open university in Barcelona, Spain</td>\n",
       "    </tr>\n",
       "    <tr>\n",
       "      <th>20</th>\n",
       "      <td>3</td>\n",
       "      <td>3</td>\n",
       "      <td>True</td>\n",
       "      <td>/trends/explore?q=/m/02ky346&amp;date=today+12-m&amp;g...</td>\n",
       "      <td>/m/02ky346</td>\n",
       "      <td>Engineering</td>\n",
       "      <td>Discipline</td>\n",
       "    </tr>\n",
       "    <tr>\n",
       "      <th>21</th>\n",
       "      <td>3</td>\n",
       "      <td>3</td>\n",
       "      <td>True</td>\n",
       "      <td>/trends/explore?q=/m/019v9k&amp;date=today+12-m&amp;ge...</td>\n",
       "      <td>/m/019v9k</td>\n",
       "      <td>Bachelor's degree</td>\n",
       "      <td>Degree</td>\n",
       "    </tr>\n",
       "    <tr>\n",
       "      <th>22</th>\n",
       "      <td>2</td>\n",
       "      <td>2</td>\n",
       "      <td>True</td>\n",
       "      <td>/trends/explore?q=/g/11my1t41tp&amp;date=today+12-...</td>\n",
       "      <td>/g/11my1t41tp</td>\n",
       "      <td>good</td>\n",
       "      <td>Topic</td>\n",
       "    </tr>\n",
       "    <tr>\n",
       "      <th>23</th>\n",
       "      <td>2</td>\n",
       "      <td>2</td>\n",
       "      <td>True</td>\n",
       "      <td>/trends/explore?q=/m/0j9kbbz&amp;date=today+12-m&amp;g...</td>\n",
       "      <td>/m/0j9kbbz</td>\n",
       "      <td>Coursera</td>\n",
       "      <td>Company</td>\n",
       "    </tr>\n",
       "    <tr>\n",
       "      <th>24</th>\n",
       "      <td>2</td>\n",
       "      <td>2</td>\n",
       "      <td>True</td>\n",
       "      <td>/trends/explore?q=/m/04rjg&amp;date=today+12-m&amp;geo=ES</td>\n",
       "      <td>/m/04rjg</td>\n",
       "      <td>Mathematics</td>\n",
       "      <td>Topic</td>\n",
       "    </tr>\n",
       "  </tbody>\n",
       "</table>\n",
       "</div>"
      ],
      "text/plain": [
       "    value formattedValue  hasData  \\\n",
       "0     100            100     True   \n",
       "1      99             99     True   \n",
       "2      96             96     True   \n",
       "3      19             19     True   \n",
       "4       9              9     True   \n",
       "5       8              8     True   \n",
       "6       7              7     True   \n",
       "7       6              6     True   \n",
       "8       5              5     True   \n",
       "9       5              5     True   \n",
       "10      5              5     True   \n",
       "11      5              5     True   \n",
       "12      4              4     True   \n",
       "13      4              4     True   \n",
       "14      4              4     True   \n",
       "15      3              3     True   \n",
       "16      3              3     True   \n",
       "17      3              3     True   \n",
       "18      3              3     True   \n",
       "19      3              3     True   \n",
       "20      3              3     True   \n",
       "21      3              3     True   \n",
       "22      2              2     True   \n",
       "23      2              2     True   \n",
       "24      2              2     True   \n",
       "\n",
       "                                                 link      topic_mid  \\\n",
       "0   /trends/explore?q=/m/026sq&date=today+12-m&geo=ES       /m/026sq   \n",
       "1   /trends/explore?q=/m/06mq7&date=today+12-m&geo=ES       /m/06mq7   \n",
       "2   /trends/explore?q=/m/0jt3_q3&date=today+12-m&g...     /m/0jt3_q3   \n",
       "3   /trends/explore?q=/m/016t_3&date=today+12-m&ge...      /m/016t_3   \n",
       "4   /trends/explore?q=/m/05z1_&date=today+12-m&geo=ES       /m/05z1_   \n",
       "5   /trends/explore?q=/m/07hs4p&date=today+12-m&ge...      /m/07hs4p   \n",
       "6   /trends/explore?q=/m/0bs2j8q&date=today+12-m&g...     /m/0bs2j8q   \n",
       "7   /trends/explore?q=/m/07tf8&date=today+12-m&geo=ES       /m/07tf8   \n",
       "8   /trends/explore?q=/m/01hyh_&date=today+12-m&ge...      /m/01hyh_   \n",
       "9   /trends/explore?q=/m/0dkw5&date=today+12-m&geo=ES       /m/0dkw5   \n",
       "10  /trends/explore?q=/m/07zy4y&date=today+12-m&ge...      /m/07zy4y   \n",
       "11  /trends/explore?q=/m/02gcn9&date=today+12-m&ge...      /m/02gcn9   \n",
       "12   /trends/explore?q=/m/0mkz&date=today+12-m&geo=ES        /m/0mkz   \n",
       "13  /trends/explore?q=/m/02w88k&date=today+12-m&ge...      /m/02w88k   \n",
       "14  /trends/explore?q=/g/121jnq1m&date=today+12-m&...    /g/121jnq1m   \n",
       "15  /trends/explore?q=/m/02kwz2&date=today+12-m&ge...      /m/02kwz2   \n",
       "16  /trends/explore?q=/m/06mnr&date=today+12-m&geo=ES       /m/06mnr   \n",
       "17  /trends/explore?q=/m/0156dy&date=today+12-m&ge...      /m/0156dy   \n",
       "18  /trends/explore?q=/g/121vr6rm&date=today+12-m&...    /g/121vr6rm   \n",
       "19  /trends/explore?q=/m/04nhxw&date=today+12-m&ge...      /m/04nhxw   \n",
       "20  /trends/explore?q=/m/02ky346&date=today+12-m&g...     /m/02ky346   \n",
       "21  /trends/explore?q=/m/019v9k&date=today+12-m&ge...      /m/019v9k   \n",
       "22  /trends/explore?q=/g/11my1t41tp&date=today+12-...  /g/11my1t41tp   \n",
       "23  /trends/explore?q=/m/0j9kbbz&date=today+12-m&g...     /m/0j9kbbz   \n",
       "24  /trends/explore?q=/m/04rjg&date=today+12-m&geo=ES       /m/04rjg   \n",
       "\n",
       "                                     topic_title  \\\n",
       "0                                           Data   \n",
       "1                                        Science   \n",
       "2                                   Data science   \n",
       "3                                Master's Degree   \n",
       "4                                         Python   \n",
       "5                                         Course   \n",
       "6                                       Big data   \n",
       "7                                     University   \n",
       "8                               Machine learning   \n",
       "9                                        Machine   \n",
       "10                                 Data analysis   \n",
       "11                                     Analytics   \n",
       "12                       Artificial intelligence   \n",
       "13                                        Salary   \n",
       "14                                      Business   \n",
       "15                                  Intelligence   \n",
       "16                                    Statistics   \n",
       "17                                       Project   \n",
       "18                                      Analysis   \n",
       "19  UOC Open University of Catalonia - Barcelona   \n",
       "20                                   Engineering   \n",
       "21                             Bachelor's degree   \n",
       "22                                          good   \n",
       "23                                      Coursera   \n",
       "24                                   Mathematics   \n",
       "\n",
       "                             topic_type  \n",
       "0                                 Topic  \n",
       "1                       School category  \n",
       "2                        Field of study  \n",
       "3                                Degree  \n",
       "4                  Programming language  \n",
       "5                             Education  \n",
       "6                                 Topic  \n",
       "7                       School category  \n",
       "8               Software classification  \n",
       "9                                 Topic  \n",
       "10                                Topic  \n",
       "11                                Topic  \n",
       "12                                Topic  \n",
       "13                                Topic  \n",
       "14                                Topic  \n",
       "15                                Topic  \n",
       "16                           Discipline  \n",
       "17                                Topic  \n",
       "18                                Topic  \n",
       "19  Open university in Barcelona, Spain  \n",
       "20                           Discipline  \n",
       "21                               Degree  \n",
       "22                                Topic  \n",
       "23                              Company  \n",
       "24                                Topic  "
      ]
     },
     "execution_count": 115,
     "metadata": {},
     "output_type": "execute_result"
    }
   ],
   "source": [
    "#We indicate the query that we want to carry out\n",
    "words_list1 = [\"Data science\"]\n",
    "  \n",
    "#We pass all the parameters we want to the request (filtered)\n",
    "pytrends.build_payload(words_list1, cat=0, timeframe=\"today 12-m\", geo=\"ES\")\n",
    "    \n",
    "#We run pytrends.related_topics()\n",
    "pytrends.related_topics() \n",
    "\n",
    "#We indicate that we want the topics with an increasing volume\n",
    "#during the established period of time\n",
    "trend_analysis = pytrends.related_topics()\n",
    "trend_analysis.get(\"Data science\").get(\"top\")\n",
    "#trend_analysis.get(\"cruises\").get(\"rising\")"
   ]
  },
  {
   "cell_type": "code",
   "execution_count": 116,
   "id": "d952698c",
   "metadata": {},
   "outputs": [
    {
     "data": {
      "text/plain": [
       "dict_values([{'top':                     query  value\n",
       "0     master data science    100\n",
       "1                big data     41\n",
       "2   bootcamp data science     25\n",
       "3          data scientist     16\n",
       "4                     uoc     15\n",
       "5                coursera     14\n",
       "6    towards data science     12\n",
       "7                linkedin     11\n",
       "8                     edx      9\n",
       "9                   udemy      7\n",
       "10               datacamp      4, 'rising':       query   value\n",
       "0     udemy  111850\n",
       "1  datacamp   67350\n",
       "2       edx     250\n",
       "3  coursera     150}])"
      ]
     },
     "execution_count": 116,
     "metadata": {},
     "output_type": "execute_result"
    }
   ],
   "source": [
    "# Related Queries\n",
    "\n",
    "rq1  = pytrends.related_queries()\n",
    "rq1.values()"
   ]
  },
  {
   "cell_type": "code",
   "execution_count": 117,
   "id": "363c6799",
   "metadata": {},
   "outputs": [
    {
     "data": {
      "text/html": [
       "<div>\n",
       "<style scoped>\n",
       "    .dataframe tbody tr th:only-of-type {\n",
       "        vertical-align: middle;\n",
       "    }\n",
       "\n",
       "    .dataframe tbody tr th {\n",
       "        vertical-align: top;\n",
       "    }\n",
       "\n",
       "    .dataframe thead th {\n",
       "        text-align: right;\n",
       "    }\n",
       "</style>\n",
       "<table border=\"1\" class=\"dataframe\">\n",
       "  <thead>\n",
       "    <tr style=\"text-align: right;\">\n",
       "      <th></th>\n",
       "      <th>mid</th>\n",
       "      <th>title</th>\n",
       "      <th>type</th>\n",
       "    </tr>\n",
       "  </thead>\n",
       "  <tbody>\n",
       "    <tr>\n",
       "      <th>0</th>\n",
       "      <td>/m/0bs2j8q</td>\n",
       "      <td>Big data</td>\n",
       "      <td>Topic</td>\n",
       "    </tr>\n",
       "    <tr>\n",
       "      <th>1</th>\n",
       "      <td>/m/0h0rgk</td>\n",
       "      <td>Chrysanthemum</td>\n",
       "      <td>Book by Kevin Henkes</td>\n",
       "    </tr>\n",
       "    <tr>\n",
       "      <th>2</th>\n",
       "      <td>/m/06zxhpb</td>\n",
       "      <td>Data Engineer</td>\n",
       "      <td>Career</td>\n",
       "    </tr>\n",
       "    <tr>\n",
       "      <th>3</th>\n",
       "      <td>/m/09gjp7t</td>\n",
       "      <td>Tears of a Tiger</td>\n",
       "      <td>Novel by Sharon M Draper</td>\n",
       "    </tr>\n",
       "    <tr>\n",
       "      <th>4</th>\n",
       "      <td>/g/11hckgcz8d</td>\n",
       "      <td>Humble Pi: A Comedy of Maths Errors</td>\n",
       "      <td>Book by Matt Parker</td>\n",
       "    </tr>\n",
       "  </tbody>\n",
       "</table>\n",
       "</div>"
      ],
      "text/plain": [
       "             mid                                title  \\\n",
       "0     /m/0bs2j8q                             Big data   \n",
       "1      /m/0h0rgk                        Chrysanthemum   \n",
       "2     /m/06zxhpb                        Data Engineer   \n",
       "3     /m/09gjp7t                     Tears of a Tiger   \n",
       "4  /g/11hckgcz8d  Humble Pi: A Comedy of Maths Errors   \n",
       "\n",
       "                       type  \n",
       "0                     Topic  \n",
       "1      Book by Kevin Henkes  \n",
       "2                    Career  \n",
       "3  Novel by Sharon M Draper  \n",
       "4       Book by Matt Parker  "
      ]
     },
     "execution_count": 117,
     "metadata": {},
     "output_type": "execute_result"
    }
   ],
   "source": [
    "# Keyword Suggestion\n",
    "\n",
    "import pandas as pd\n",
    "\n",
    "keywords = pytrends.suggestions(keyword='Big data')\n",
    "df = pd.DataFrame(keywords)\n",
    "df.tail()"
   ]
  },
  {
   "cell_type": "code",
   "execution_count": null,
   "id": "fb0bd782",
   "metadata": {},
   "outputs": [],
   "source": []
  }
 ],
 "metadata": {
  "kernelspec": {
   "display_name": "Python 3 (ipykernel)",
   "language": "python",
   "name": "python3"
  },
  "language_info": {
   "codemirror_mode": {
    "name": "ipython",
    "version": 3
   },
   "file_extension": ".py",
   "mimetype": "text/x-python",
   "name": "python",
   "nbconvert_exporter": "python",
   "pygments_lexer": "ipython3",
   "version": "3.9.13"
  }
 },
 "nbformat": 4,
 "nbformat_minor": 5
}
